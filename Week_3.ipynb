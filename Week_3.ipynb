{
 "cells": [
  {
   "cell_type": "markdown",
   "metadata": {},
   "source": [
    "# Exercise for the 3rd course week\n",
    "\n",
    "## Ex 1 Classes\n",
    "1. Create 3 classes: Student, DataSheet and Course\n",
    "2. A student has a data_sheet and a data_sheet has multiple courses in particular order\n",
    "3. Each course has name, classroom, teacher, ETCS and optional grade if course is taken.\n",
    "4. In Student create __init__() so that a Student can be initiated with name, gender, data_sheet and image_url\n",
    "5. In DataSheet create a method to get_grades_as_list()\n",
    "6. In student create a method: get_avg_grade()\n",
    "7. Create a function that can generate n number of students with random: name, gender, courses (from a fixed list of course names), grades, img_url\n",
    "   1. Let the function write the result to a csv file with format stud_name, course_name, teacher, ,gender, ects, classroom, grade, img_url\n",
    "7. Read student data into a list of Students from a csv file (Each student can appear on multiple lines): \n",
    "   1. loop through the list and print each student with name, img_url and avg_grade.\n",
    "   2. sort the list by avg_grade\n",
    "   3. create a bar chart with student_name on x and avg_grade on y-axis\n",
    "8. Make a method on Student class that can show progression of the study in % (add up ECTS from all passed courses divided by total of 150 total points (equivalent to 5 semesters))\n",
    "9. Show a bar chart of distribution of study progression on x-axis and number of students in each category on y-axis. (e.g. make 10 categories from 0-100%)\n",
    "\n",
    "Extra: Make the Datasheet class iterable so that next(data_sheet) will return the next course in the list\n",
    "\n",
    "## Ex 2 Exceptions (extra)\n",
    "1. Create a function that can take a list of students and return the 3 students closest to completing their study.\n",
    "2. If list is shorter than 3 raise your own custom exception (NotEnoughStudentsException)\n",
    "3. Create another function that can create a csv file with 3 students closest to completion\n",
    "   1. If an exception is raised write an appropriate message to the file\n",
    "\n",
    "## Ex 3 Plotting (extra)\n",
    "1. Create a function that can take a list of students and show a pie chart of how students are distributed in ECTS percentage categories (10%, 20%, ...)\n",
    "2. create a function that can take a list of students and show how many students have taken each course (bar chart)\n",
    "   1. create a method on student that can return a list of courses\n",
    "3. make the figure show males and females in different colors for each course (display 2 datasets in same figure)\n"
   ]
  },
  {
   "cell_type": "code",
   "execution_count": 1,
   "metadata": {},
   "outputs": [],
   "source": [
    "from enum import Enum"
   ]
  },
  {
   "cell_type": "code",
   "execution_count": 2,
   "metadata": {},
   "outputs": [],
   "source": [
    "class Gender(Enum):\n",
    "    Male = \"male\"\n",
    "    Female = \"Female\""
   ]
  },
  {
   "cell_type": "code",
   "execution_count": 3,
   "metadata": {},
   "outputs": [],
   "source": [
    "class Course():\n",
    "\n",
    "    def __init__(self, name, classroom, teacher, ects, grade = None):\n",
    "        self.name = name\n",
    "        self.classroom = classroom\n",
    "        self.teacher = teacher\n",
    "        self.ects = ects\n",
    "        self.grade = grade\n",
    "        \n",
    "    def __str__(self):\n",
    "        return \"Name: {}, Classroom: {}, Teacher: {}, ECTS: {}, Grade: {}\".format(self.name, self.classroom, self.teacher, self.ects, self.grade)"
   ]
  },
  {
   "cell_type": "code",
   "execution_count": 4,
   "metadata": {},
   "outputs": [],
   "source": [
    "class DataSheet():\n",
    "    \n",
    "    def __init__(self, courses = []):\n",
    "        self.courses = courses\n",
    "        \n",
    "    def get_grade_as_list(self, courses = []) -> Course: \n",
    "        grade_list = []\n",
    "        for course in self.courses:\n",
    "            print(course)\n",
    "            if course.grade is not None:\n",
    "                grade_list.append(course.grade)\n",
    "        return grade_list\n",
    "            "
   ]
  },
  {
   "cell_type": "code",
   "execution_count": 5,
   "metadata": {},
   "outputs": [],
   "source": [
    "class Student():\n",
    "\n",
    "    def __init__(self, name, gender, image_url, data_sheet = []):\n",
    "        self.name = name\n",
    "        self.gender = gender\n",
    "        self.image_url = image_url\n",
    "        self.data_sheet = data_sheet\n",
    "        \n",
    "    def get_data_sheet(self, data_sheet = []) -> DataSheet:\n",
    "        \"\"\"Get DataSheet\"\"\" \n",
    "        return self.data_sheet\n",
    "    \n",
    "    def get_avg_grade(self):\n",
    "        finished_courses = 0\n",
    "        grade_total = 0\n",
    "        \n",
    "        for course in self.data_sheet.courses:\n",
    "            if course.grade is not None:\n",
    "                finished_courses = finished_courses + 1\n",
    "                grade_total = grade_total + course.grade\n",
    "        \n",
    "        return f'Avg grade: {grade_total / finished_courses}'\n",
    "            \n",
    "        \n",
    "    def __str__(self):\n",
    "        return \"Name: {}, Gender: {}, image_url: {}, data_sheet: {}\".format(self.name, self.gender, self.image_url, self.data_sheet)\n"
   ]
  },
  {
   "cell_type": "code",
   "execution_count": 6,
   "metadata": {},
   "outputs": [],
   "source": [
    "course_1 = Course(\"Python\", \"105\", \"Thomas\", 10)"
   ]
  },
  {
   "cell_type": "code",
   "execution_count": 7,
   "metadata": {},
   "outputs": [
    {
     "data": {
      "text/plain": [
       "'Name: Python, Classroom: 105, Teacher: Thomas, ECTS: 10, Grade: None'"
      ]
     },
     "execution_count": 7,
     "metadata": {},
     "output_type": "execute_result"
    }
   ],
   "source": [
    "str(course_1)"
   ]
  },
  {
   "cell_type": "code",
   "execution_count": 8,
   "metadata": {},
   "outputs": [],
   "source": [
    "course_2 = Course(\"Unity\", \"105\", \"Jesper\", 10)"
   ]
  },
  {
   "cell_type": "code",
   "execution_count": 9,
   "metadata": {},
   "outputs": [
    {
     "data": {
      "text/plain": [
       "'Name: Unity, Classroom: 105, Teacher: Jesper, ECTS: 10, Grade: None'"
      ]
     },
     "execution_count": 9,
     "metadata": {},
     "output_type": "execute_result"
    }
   ],
   "source": [
    "str(course_2)"
   ]
  },
  {
   "cell_type": "code",
   "execution_count": 10,
   "metadata": {},
   "outputs": [],
   "source": [
    "course_3 = Course(\"Programmering 3. semester\", \"105\", \"Thomas\", 20, 12)"
   ]
  },
  {
   "cell_type": "code",
   "execution_count": 11,
   "metadata": {},
   "outputs": [
    {
     "data": {
      "text/plain": [
       "'Name: Programmering 3. semester, Classroom: 105, Teacher: Thomas, ECTS: 20, Grade: 12'"
      ]
     },
     "execution_count": 11,
     "metadata": {},
     "output_type": "execute_result"
    }
   ],
   "source": [
    "str(course_3)"
   ]
  },
  {
   "cell_type": "code",
   "execution_count": 12,
   "metadata": {},
   "outputs": [],
   "source": [
    "course_4 = Course(\"Systemudvikling\", \"105\", \"Palle\", 10, 10)"
   ]
  },
  {
   "cell_type": "code",
   "execution_count": 13,
   "metadata": {},
   "outputs": [
    {
     "data": {
      "text/plain": [
       "'Name: Systemudvikling, Classroom: 105, Teacher: Palle, ECTS: 10, Grade: 10'"
      ]
     },
     "execution_count": 13,
     "metadata": {},
     "output_type": "execute_result"
    }
   ],
   "source": [
    "str(course_4)"
   ]
  },
  {
   "cell_type": "code",
   "execution_count": 14,
   "metadata": {},
   "outputs": [],
   "source": [
    "student_1 = Student(\"Arik\", Gender.Male.value, \"https://google.com\", DataSheet([course_1, course_2, course_3, course_4]))"
   ]
  },
  {
   "cell_type": "code",
   "execution_count": 15,
   "metadata": {},
   "outputs": [
    {
     "name": "stdout",
     "output_type": "stream",
     "text": [
      "{'name': 'Arik', 'gender': 'male', 'image_url': 'https://google.com', 'data_sheet': <__main__.DataSheet object at 0x7fdbb41b3610>}\n"
     ]
    }
   ],
   "source": [
    "print(student_1.__dict__)"
   ]
  },
  {
   "cell_type": "code",
   "execution_count": 16,
   "metadata": {},
   "outputs": [
    {
     "data": {
      "text/plain": [
       "'Name: Arik, Gender: male, image_url: https://google.com, data_sheet: <__main__.DataSheet object at 0x7fdbb41b3610>'"
      ]
     },
     "execution_count": 16,
     "metadata": {},
     "output_type": "execute_result"
    }
   ],
   "source": [
    "str(student_1)"
   ]
  },
  {
   "cell_type": "code",
   "execution_count": 17,
   "metadata": {},
   "outputs": [
    {
     "name": "stdout",
     "output_type": "stream",
     "text": [
      "Name: Python, Classroom: 105, Teacher: Thomas, ECTS: 10, Grade: None\n",
      "Name: Unity, Classroom: 105, Teacher: Jesper, ECTS: 10, Grade: None\n",
      "Name: Programmering 3. semester, Classroom: 105, Teacher: Thomas, ECTS: 20, Grade: 12\n",
      "Name: Systemudvikling, Classroom: 105, Teacher: Palle, ECTS: 10, Grade: 10\n"
     ]
    },
    {
     "data": {
      "text/plain": [
       "[12, 10]"
      ]
     },
     "execution_count": 17,
     "metadata": {},
     "output_type": "execute_result"
    }
   ],
   "source": [
    "student_1.get_data_sheet().get_grade_as_list()"
   ]
  },
  {
   "cell_type": "code",
   "execution_count": 18,
   "metadata": {},
   "outputs": [
    {
     "data": {
      "text/plain": [
       "'Avg grade: 11.0'"
      ]
     },
     "execution_count": 18,
     "metadata": {},
     "output_type": "execute_result"
    }
   ],
   "source": [
    "student_1.get_avg_grade()"
   ]
  },
  {
   "cell_type": "code",
   "execution_count": 19,
   "metadata": {},
   "outputs": [],
   "source": [
    "import random"
   ]
  },
  {
   "cell_type": "code",
   "execution_count": 20,
   "metadata": {},
   "outputs": [],
   "source": [
    "male_names = ['Hans', 'Jesper', 'Ole', 'Søren', 'Flemming', 'Jens']\n",
    "female_names = ['Lise', 'Hanne', 'Line', 'Laura', 'Mia', 'Lotte']\n",
    "courses_list = [{'Name': 'Python', 'Classroom': '105', 'Teacher': 'Thomas', 'ECTS': 10}, {'Name': 'Unity', 'Classroom': '105', 'Teacher': 'Jesper', 'ECTS': 10}, {'Name': 'Security', 'Classroom': '105', 'Teacher': 'Daniel', 'ECTS': 10}, {'Name': 'Systemudvikling', 'Classroom': '105', 'Teacher': 'Palle', 'ECTS': 10}, {'Name': 'Programmering', 'Classroom': '105', 'Teacher': 'Thomas', 'ECTS': 20}]           "
   ]
  },
  {
   "cell_type": "code",
   "execution_count": 21,
   "metadata": {},
   "outputs": [
    {
     "data": {
      "text/plain": [
       "[{'Name': 'Python', 'Classroom': '105', 'Teacher': 'Thomas', 'ECTS': 10},\n",
       " {'Name': 'Unity', 'Classroom': '105', 'Teacher': 'Jesper', 'ECTS': 10},\n",
       " {'Name': 'Security', 'Classroom': '105', 'Teacher': 'Daniel', 'ECTS': 10},\n",
       " {'Name': 'Systemudvikling',\n",
       "  'Classroom': '105',\n",
       "  'Teacher': 'Palle',\n",
       "  'ECTS': 10},\n",
       " {'Name': 'Programmering',\n",
       "  'Classroom': '105',\n",
       "  'Teacher': 'Thomas',\n",
       "  'ECTS': 20}]"
      ]
     },
     "execution_count": 21,
     "metadata": {},
     "output_type": "execute_result"
    }
   ],
   "source": [
    "courses_list"
   ]
  },
  {
   "cell_type": "code",
   "execution_count": 22,
   "metadata": {},
   "outputs": [],
   "source": [
    "import time"
   ]
  },
  {
   "cell_type": "code",
   "execution_count": 23,
   "metadata": {},
   "outputs": [],
   "source": [
    "def make_random_students(number_of_students = 2, number_of_courses = 2):\n",
    "    student_list = []\n",
    "    \n",
    "    \n",
    "    print(\"Number of student to create: \" + str(number_of_students))\n",
    "    print(\"Number of courses per student: \" + str(number_of_courses))\n",
    "    \n",
    "    for number in range(0,number_of_students):\n",
    "        #print(number)\n",
    "        data_sheet = DataSheet([])\n",
    "        print('Length data_sheet courses: ' + str(len(data_sheet.courses)))\n",
    "    \n",
    "        for course in range(0,number_of_courses):\n",
    "                print('Beginning of a loop.....\\n')\n",
    "                \n",
    "                course_isTaken = False\n",
    "\n",
    "                random_course_number = random.randint(0,len(courses_list) - 1)\n",
    "                print('Random course number: ' + str(random_course_number))\n",
    "                print(courses_list[random_course_number])\n",
    "\n",
    "                course_to_add = courses_list[random_course_number]\n",
    "                print(\"\\n\")\n",
    "                print(\"Checking course: \" + course_to_add['Name'])\n",
    "                print(\"------\\n\")\n",
    "\n",
    "                for current_course in data_sheet.courses:\n",
    "                    print(\"Current course: \" + current_course.name)\n",
    "                    print(\"Course to add and check against: \" + course_to_add['Name'])\n",
    "                    if current_course.name == course_to_add['Name']:\n",
    "                        print(\"Course already added: \" + current_course.name)\n",
    "                        course_isTaken = True\n",
    "\n",
    "                if course_isTaken == False:\n",
    "                    random_grade = random.choice([-2, 0, 2, 4, 7, 10, 12])\n",
    "                    make_course_object = Course(course_to_add['Name'], course_to_add['Classroom'], course_to_add['Teacher'], course_to_add['ECTS'], random_grade)\n",
    "                    print(\"Adding course: \" + make_course_object.name)\n",
    "                    data_sheet.courses.append(make_course_object)\n",
    "\n",
    "                print('Sheet length: ' + str(len(data_sheet.courses)))\n",
    "                print(data_sheet.__dict__)\n",
    "\n",
    "        print(\"\\n\")\n",
    "        print(\"Creating Student\\n\")\n",
    "        studen_name = ''\n",
    "        student_gender = ''\n",
    "        student_image_url = 'https://cphbusiness.dk/images/'\n",
    "\n",
    "        male_or_female = random.choice([0, 1])\n",
    "        #print(male_or_female)\n",
    "\n",
    "\n",
    "        if male_or_female == 0:\n",
    "            student_name = random.choice(male_names)\n",
    "            student_gender = Gender.Male.value\n",
    "        else:\n",
    "            student_name = random.choice(female_names)\n",
    "            student_gender = Gender.Female.value\n",
    "\n",
    "        student_image_url = student_image_url + student_name\n",
    "\n",
    "        print(\"Student Info:\")\n",
    "        print(student_name)\n",
    "        print(student_gender)\n",
    "        print(student_image_url)\n",
    "\n",
    "        print(\"\\n\")\n",
    "        print(\"Adding or creating student list\")\n",
    "\n",
    "        student_to_add = None\n",
    "        if(len(student_list) == 0):\n",
    "            print(\"Creating student...\")\n",
    "            student_to_add = Student(student_name, student_gender, student_image_url, data_sheet)\n",
    "            print(student_to_add.__dict__)\n",
    "            print(\"Adding student to list: \" + student_name)\n",
    "            #time.sleep(3)\n",
    "            student_list.append(student_to_add)\n",
    "            \n",
    "            print(\"------\\n\")\n",
    "            print(\"Student slut info:\")\n",
    "            print(\"Student name: \" + student_to_add.name)\n",
    "            for course in student_to_add.data_sheet.courses:\n",
    "                print(course.name)\n",
    "\n",
    "        else:\n",
    "\n",
    "            Student_already_on_the_list = False\n",
    "\n",
    "            print(\"Chekking i student is already on the student_list\")\n",
    "            for student_to_check in student_list:\n",
    "                if(student_to_check.name == student_name):\n",
    "                    print(\"Student is already on the list :(\")\n",
    "                    Student_already_on_the_list = True\n",
    "\n",
    "            if(Student_already_on_the_list == False):\n",
    "                print(\"Student is not on the list\")\n",
    "                print(\"Creating student...\")\n",
    "                student_to_add = Student(student_name, student_gender, student_image_url, data_sheet)\n",
    "                print(student_to_add.__dict__)\n",
    "                print(\"Adding student to list: \" + student_name)\n",
    "                #time.sleep(3)\n",
    "                student_list.append(student_to_add)\n",
    "                \n",
    "                print(\"------\\n\")\n",
    "                print(\"Student slut info:\")\n",
    "                print(\"Student name: \" + student_to_add.name)\n",
    "                for course in student_to_add.data_sheet.courses:\n",
    "                    print(course.name)\n",
    "                \n",
    "                \n",
    "        \n",
    "\n",
    "\n",
    "    print(\"\\n\")\n",
    "    print(\"Student list info:\") \n",
    "    print('Student list length: ' + str(len(student_list)))\n",
    "    for student in student_list:\n",
    "        print(student.__dict__)\n",
    "    \n",
    "    return student_list\n",
    "            "
   ]
  },
  {
   "cell_type": "code",
   "execution_count": 24,
   "metadata": {},
   "outputs": [
    {
     "name": "stdout",
     "output_type": "stream",
     "text": [
      "Number of student to create: 4\n",
      "Number of courses per student: 4\n",
      "Length data_sheet courses: 0\n",
      "Beginning of a loop.....\n",
      "\n",
      "Random course number: 4\n",
      "{'Name': 'Programmering', 'Classroom': '105', 'Teacher': 'Thomas', 'ECTS': 20}\n",
      "\n",
      "\n",
      "Checking course: Programmering\n",
      "------\n",
      "\n",
      "Adding course: Programmering\n",
      "Sheet length: 1\n",
      "{'courses': [<__main__.Course object at 0x7fdbb41b3050>]}\n",
      "Beginning of a loop.....\n",
      "\n",
      "Random course number: 4\n",
      "{'Name': 'Programmering', 'Classroom': '105', 'Teacher': 'Thomas', 'ECTS': 20}\n",
      "\n",
      "\n",
      "Checking course: Programmering\n",
      "------\n",
      "\n",
      "Current course: Programmering\n",
      "Course to add and check against: Programmering\n",
      "Course already added: Programmering\n",
      "Sheet length: 1\n",
      "{'courses': [<__main__.Course object at 0x7fdbb41b3050>]}\n",
      "Beginning of a loop.....\n",
      "\n",
      "Random course number: 0\n",
      "{'Name': 'Python', 'Classroom': '105', 'Teacher': 'Thomas', 'ECTS': 10}\n",
      "\n",
      "\n",
      "Checking course: Python\n",
      "------\n",
      "\n",
      "Current course: Programmering\n",
      "Course to add and check against: Python\n",
      "Adding course: Python\n",
      "Sheet length: 2\n",
      "{'courses': [<__main__.Course object at 0x7fdbb41b3050>, <__main__.Course object at 0x7fdbb41ae410>]}\n",
      "Beginning of a loop.....\n",
      "\n",
      "Random course number: 1\n",
      "{'Name': 'Unity', 'Classroom': '105', 'Teacher': 'Jesper', 'ECTS': 10}\n",
      "\n",
      "\n",
      "Checking course: Unity\n",
      "------\n",
      "\n",
      "Current course: Programmering\n",
      "Course to add and check against: Unity\n",
      "Current course: Python\n",
      "Course to add and check against: Unity\n",
      "Adding course: Unity\n",
      "Sheet length: 3\n",
      "{'courses': [<__main__.Course object at 0x7fdbb41b3050>, <__main__.Course object at 0x7fdbb41ae410>, <__main__.Course object at 0x7fdbb41b3e10>]}\n",
      "\n",
      "\n",
      "Creating Student\n",
      "\n",
      "Student Info:\n",
      "Jens\n",
      "male\n",
      "https://cphbusiness.dk/images/Jens\n",
      "\n",
      "\n",
      "Adding or creating student list\n",
      "Creating student...\n",
      "{'name': 'Jens', 'gender': 'male', 'image_url': 'https://cphbusiness.dk/images/Jens', 'data_sheet': <__main__.DataSheet object at 0x7fdbb41a0590>}\n",
      "Adding student to list: Jens\n",
      "------\n",
      "\n",
      "Student slut info:\n",
      "Student name: Jens\n",
      "Programmering\n",
      "Python\n",
      "Unity\n",
      "Length data_sheet courses: 0\n",
      "Beginning of a loop.....\n",
      "\n",
      "Random course number: 3\n",
      "{'Name': 'Systemudvikling', 'Classroom': '105', 'Teacher': 'Palle', 'ECTS': 10}\n",
      "\n",
      "\n",
      "Checking course: Systemudvikling\n",
      "------\n",
      "\n",
      "Adding course: Systemudvikling\n",
      "Sheet length: 1\n",
      "{'courses': [<__main__.Course object at 0x7fdbb41b3910>]}\n",
      "Beginning of a loop.....\n",
      "\n",
      "Random course number: 3\n",
      "{'Name': 'Systemudvikling', 'Classroom': '105', 'Teacher': 'Palle', 'ECTS': 10}\n",
      "\n",
      "\n",
      "Checking course: Systemudvikling\n",
      "------\n",
      "\n",
      "Current course: Systemudvikling\n",
      "Course to add and check against: Systemudvikling\n",
      "Course already added: Systemudvikling\n",
      "Sheet length: 1\n",
      "{'courses': [<__main__.Course object at 0x7fdbb41b3910>]}\n",
      "Beginning of a loop.....\n",
      "\n",
      "Random course number: 0\n",
      "{'Name': 'Python', 'Classroom': '105', 'Teacher': 'Thomas', 'ECTS': 10}\n",
      "\n",
      "\n",
      "Checking course: Python\n",
      "------\n",
      "\n",
      "Current course: Systemudvikling\n",
      "Course to add and check against: Python\n",
      "Adding course: Python\n",
      "Sheet length: 2\n",
      "{'courses': [<__main__.Course object at 0x7fdbb41b3910>, <__main__.Course object at 0x7fdbb41a0d50>]}\n",
      "Beginning of a loop.....\n",
      "\n",
      "Random course number: 4\n",
      "{'Name': 'Programmering', 'Classroom': '105', 'Teacher': 'Thomas', 'ECTS': 20}\n",
      "\n",
      "\n",
      "Checking course: Programmering\n",
      "------\n",
      "\n",
      "Current course: Systemudvikling\n",
      "Course to add and check against: Programmering\n",
      "Current course: Python\n",
      "Course to add and check against: Programmering\n",
      "Adding course: Programmering\n",
      "Sheet length: 3\n",
      "{'courses': [<__main__.Course object at 0x7fdbb41b3910>, <__main__.Course object at 0x7fdbb41a0d50>, <__main__.Course object at 0x7fdbb41ba450>]}\n",
      "\n",
      "\n",
      "Creating Student\n",
      "\n",
      "Student Info:\n",
      "Ole\n",
      "male\n",
      "https://cphbusiness.dk/images/Ole\n",
      "\n",
      "\n",
      "Adding or creating student list\n",
      "Chekking i student is already on the student_list\n",
      "Student is not on the list\n",
      "Creating student...\n",
      "{'name': 'Ole', 'gender': 'male', 'image_url': 'https://cphbusiness.dk/images/Ole', 'data_sheet': <__main__.DataSheet object at 0x7fdbb41e5950>}\n",
      "Adding student to list: Ole\n",
      "------\n",
      "\n",
      "Student slut info:\n",
      "Student name: Ole\n",
      "Systemudvikling\n",
      "Python\n",
      "Programmering\n",
      "Length data_sheet courses: 0\n",
      "Beginning of a loop.....\n",
      "\n",
      "Random course number: 1\n",
      "{'Name': 'Unity', 'Classroom': '105', 'Teacher': 'Jesper', 'ECTS': 10}\n",
      "\n",
      "\n",
      "Checking course: Unity\n",
      "------\n",
      "\n",
      "Adding course: Unity\n",
      "Sheet length: 1\n",
      "{'courses': [<__main__.Course object at 0x7fdbb41baa90>]}\n",
      "Beginning of a loop.....\n",
      "\n",
      "Random course number: 4\n",
      "{'Name': 'Programmering', 'Classroom': '105', 'Teacher': 'Thomas', 'ECTS': 20}\n",
      "\n",
      "\n",
      "Checking course: Programmering\n",
      "------\n",
      "\n",
      "Current course: Unity\n",
      "Course to add and check against: Programmering\n",
      "Adding course: Programmering\n",
      "Sheet length: 2\n",
      "{'courses': [<__main__.Course object at 0x7fdbb41baa90>, <__main__.Course object at 0x7fdbb419b990>]}\n",
      "Beginning of a loop.....\n",
      "\n",
      "Random course number: 4\n",
      "{'Name': 'Programmering', 'Classroom': '105', 'Teacher': 'Thomas', 'ECTS': 20}\n",
      "\n",
      "\n",
      "Checking course: Programmering\n",
      "------\n",
      "\n",
      "Current course: Unity\n",
      "Course to add and check against: Programmering\n",
      "Current course: Programmering\n",
      "Course to add and check against: Programmering\n",
      "Course already added: Programmering\n",
      "Sheet length: 2\n",
      "{'courses': [<__main__.Course object at 0x7fdbb41baa90>, <__main__.Course object at 0x7fdbb419b990>]}\n",
      "Beginning of a loop.....\n",
      "\n",
      "Random course number: 3\n",
      "{'Name': 'Systemudvikling', 'Classroom': '105', 'Teacher': 'Palle', 'ECTS': 10}\n",
      "\n",
      "\n",
      "Checking course: Systemudvikling\n",
      "------\n",
      "\n",
      "Current course: Unity\n",
      "Course to add and check against: Systemudvikling\n",
      "Current course: Programmering\n",
      "Course to add and check against: Systemudvikling\n",
      "Adding course: Systemudvikling\n",
      "Sheet length: 3\n",
      "{'courses': [<__main__.Course object at 0x7fdbb41baa90>, <__main__.Course object at 0x7fdbb419b990>, <__main__.Course object at 0x7fdbb41c37d0>]}\n",
      "\n",
      "\n",
      "Creating Student\n",
      "\n",
      "Student Info:\n",
      "Flemming\n",
      "male\n",
      "https://cphbusiness.dk/images/Flemming\n",
      "\n",
      "\n",
      "Adding or creating student list\n",
      "Chekking i student is already on the student_list\n",
      "Student is not on the list\n",
      "Creating student...\n",
      "{'name': 'Flemming', 'gender': 'male', 'image_url': 'https://cphbusiness.dk/images/Flemming', 'data_sheet': <__main__.DataSheet object at 0x7fdbb41c3650>}\n",
      "Adding student to list: Flemming\n",
      "------\n",
      "\n",
      "Student slut info:\n",
      "Student name: Flemming\n",
      "Unity\n",
      "Programmering\n",
      "Systemudvikling\n",
      "Length data_sheet courses: 0\n",
      "Beginning of a loop.....\n",
      "\n",
      "Random course number: 3\n",
      "{'Name': 'Systemudvikling', 'Classroom': '105', 'Teacher': 'Palle', 'ECTS': 10}\n",
      "\n",
      "\n",
      "Checking course: Systemudvikling\n",
      "------\n",
      "\n",
      "Adding course: Systemudvikling\n",
      "Sheet length: 1\n",
      "{'courses': [<__main__.Course object at 0x7fdbb41a0b10>]}\n",
      "Beginning of a loop.....\n",
      "\n",
      "Random course number: 1\n",
      "{'Name': 'Unity', 'Classroom': '105', 'Teacher': 'Jesper', 'ECTS': 10}\n",
      "\n",
      "\n",
      "Checking course: Unity\n",
      "------\n",
      "\n",
      "Current course: Systemudvikling\n",
      "Course to add and check against: Unity\n",
      "Adding course: Unity\n",
      "Sheet length: 2\n",
      "{'courses': [<__main__.Course object at 0x7fdbb41a0b10>, <__main__.Course object at 0x7fdbb41a0510>]}\n",
      "Beginning of a loop.....\n",
      "\n",
      "Random course number: 2\n",
      "{'Name': 'Security', 'Classroom': '105', 'Teacher': 'Daniel', 'ECTS': 10}\n",
      "\n",
      "\n",
      "Checking course: Security\n",
      "------\n",
      "\n",
      "Current course: Systemudvikling\n",
      "Course to add and check against: Security\n",
      "Current course: Unity\n",
      "Course to add and check against: Security\n",
      "Adding course: Security\n",
      "Sheet length: 3\n",
      "{'courses': [<__main__.Course object at 0x7fdbb41a0b10>, <__main__.Course object at 0x7fdbb41a0510>, <__main__.Course object at 0x7fdbb41ae4d0>]}\n",
      "Beginning of a loop.....\n",
      "\n",
      "Random course number: 4\n",
      "{'Name': 'Programmering', 'Classroom': '105', 'Teacher': 'Thomas', 'ECTS': 20}\n",
      "\n",
      "\n",
      "Checking course: Programmering\n",
      "------\n",
      "\n",
      "Current course: Systemudvikling\n",
      "Course to add and check against: Programmering\n",
      "Current course: Unity\n",
      "Course to add and check against: Programmering\n",
      "Current course: Security\n",
      "Course to add and check against: Programmering\n",
      "Adding course: Programmering\n",
      "Sheet length: 4\n",
      "{'courses': [<__main__.Course object at 0x7fdbb41a0b10>, <__main__.Course object at 0x7fdbb41a0510>, <__main__.Course object at 0x7fdbb41ae4d0>, <__main__.Course object at 0x7fdbb41a0dd0>]}\n",
      "\n",
      "\n",
      "Creating Student\n",
      "\n",
      "Student Info:\n",
      "Line\n",
      "Female\n",
      "https://cphbusiness.dk/images/Line\n",
      "\n",
      "\n",
      "Adding or creating student list\n",
      "Chekking i student is already on the student_list\n",
      "Student is not on the list\n",
      "Creating student...\n",
      "{'name': 'Line', 'gender': 'Female', 'image_url': 'https://cphbusiness.dk/images/Line', 'data_sheet': <__main__.DataSheet object at 0x7fdbb41e1050>}\n",
      "Adding student to list: Line\n",
      "------\n",
      "\n",
      "Student slut info:\n",
      "Student name: Line\n",
      "Systemudvikling\n",
      "Unity\n",
      "Security\n",
      "Programmering\n",
      "\n",
      "\n",
      "Student list info:\n",
      "Student list length: 4\n",
      "{'name': 'Jens', 'gender': 'male', 'image_url': 'https://cphbusiness.dk/images/Jens', 'data_sheet': <__main__.DataSheet object at 0x7fdbb41a0590>}\n",
      "{'name': 'Ole', 'gender': 'male', 'image_url': 'https://cphbusiness.dk/images/Ole', 'data_sheet': <__main__.DataSheet object at 0x7fdbb41e5950>}\n",
      "{'name': 'Flemming', 'gender': 'male', 'image_url': 'https://cphbusiness.dk/images/Flemming', 'data_sheet': <__main__.DataSheet object at 0x7fdbb41c3650>}\n",
      "{'name': 'Line', 'gender': 'Female', 'image_url': 'https://cphbusiness.dk/images/Line', 'data_sheet': <__main__.DataSheet object at 0x7fdbb41e1050>}\n"
     ]
    }
   ],
   "source": [
    "random_student_list = make_random_students(4,4)"
   ]
  },
  {
   "cell_type": "code",
   "execution_count": 25,
   "metadata": {},
   "outputs": [
    {
     "data": {
      "text/plain": [
       "[<__main__.Student at 0x7fdbb41b3a50>,\n",
       " <__main__.Student at 0x7fdbb41c3e90>,\n",
       " <__main__.Student at 0x7fdbb41e1110>,\n",
       " <__main__.Student at 0x7fdbb41aed10>]"
      ]
     },
     "execution_count": 25,
     "metadata": {},
     "output_type": "execute_result"
    }
   ],
   "source": [
    "random_student_list"
   ]
  },
  {
   "cell_type": "markdown",
   "metadata": {},
   "source": [
    "# CSV Write"
   ]
  },
  {
   "cell_type": "code",
   "execution_count": 26,
   "metadata": {},
   "outputs": [],
   "source": [
    "import csv"
   ]
  },
  {
   "cell_type": "code",
   "execution_count": 27,
   "metadata": {},
   "outputs": [],
   "source": [
    "file_to_output = open('student_list.csv', 'w', newline = '')"
   ]
  },
  {
   "cell_type": "code",
   "execution_count": 28,
   "metadata": {},
   "outputs": [],
   "source": [
    "# You can seperate with \",\", \";\", \"\\t\" etc.\n",
    "csv_writer = csv.writer(file_to_output, delimiter = ',')"
   ]
  },
  {
   "cell_type": "code",
   "execution_count": 29,
   "metadata": {},
   "outputs": [
    {
     "data": {
      "text/plain": [
       "67"
      ]
     },
     "execution_count": 29,
     "metadata": {},
     "output_type": "execute_result"
    }
   ],
   "source": [
    "# If we do it this way, we DEFINE the number of culoms\n",
    "# stud_name, course_name, teacher, ,gender, ects, classroom, grade, img_url\n",
    "csv_writer.writerow(['Student Name', 'Course', 'Teacher', 'Gender', 'ECTS', 'Classroom', 'Grade', 'Image Url'])"
   ]
  },
  {
   "cell_type": "code",
   "execution_count": 30,
   "metadata": {},
   "outputs": [
    {
     "name": "stdout",
     "output_type": "stream",
     "text": [
      "['Jens', 'Programmering', 'Thomas', 'male', 20, '105', 7, 'https://cphbusiness.dk/images/Jens']\n",
      "['Jens', 'Python', 'Thomas', 'male', 10, '105', 10, 'https://cphbusiness.dk/images/Jens']\n",
      "['Jens', 'Unity', 'Jesper', 'male', 10, '105', 7, 'https://cphbusiness.dk/images/Jens']\n",
      "['Ole', 'Systemudvikling', 'Palle', 'male', 10, '105', 12, 'https://cphbusiness.dk/images/Ole']\n",
      "['Ole', 'Python', 'Thomas', 'male', 10, '105', 7, 'https://cphbusiness.dk/images/Ole']\n",
      "['Ole', 'Programmering', 'Thomas', 'male', 20, '105', -2, 'https://cphbusiness.dk/images/Ole']\n",
      "['Flemming', 'Unity', 'Jesper', 'male', 10, '105', 0, 'https://cphbusiness.dk/images/Flemming']\n",
      "['Flemming', 'Programmering', 'Thomas', 'male', 20, '105', -2, 'https://cphbusiness.dk/images/Flemming']\n",
      "['Flemming', 'Systemudvikling', 'Palle', 'male', 10, '105', 0, 'https://cphbusiness.dk/images/Flemming']\n",
      "['Line', 'Systemudvikling', 'Palle', 'Female', 10, '105', 10, 'https://cphbusiness.dk/images/Line']\n",
      "['Line', 'Unity', 'Jesper', 'Female', 10, '105', 4, 'https://cphbusiness.dk/images/Line']\n",
      "['Line', 'Security', 'Daniel', 'Female', 10, '105', 2, 'https://cphbusiness.dk/images/Line']\n",
      "['Line', 'Programmering', 'Thomas', 'Female', 20, '105', 4, 'https://cphbusiness.dk/images/Line']\n"
     ]
    }
   ],
   "source": [
    "# We HAVE to make 3 items pr. row because we opened the file with ['a', 'b', 'c']\n",
    "rows_to_write_to_cvs = []\n",
    "\n",
    "for student in random_student_list:\n",
    "    for course in student.data_sheet.courses:\n",
    "        object_to_write = [student.name, course.name, course.teacher, student.gender, course.ects, course.classroom, course.grade, student.image_url]\n",
    "        print(object_to_write)\n",
    "        rows_to_write_to_cvs.append(object_to_write)\n",
    "\n",
    "csv_writer.writerows(rows_to_write_to_cvs)"
   ]
  },
  {
   "cell_type": "code",
   "execution_count": 31,
   "metadata": {},
   "outputs": [],
   "source": [
    "file_to_output.close()"
   ]
  },
  {
   "cell_type": "markdown",
   "metadata": {},
   "source": [
    "# CSV Read"
   ]
  },
  {
   "cell_type": "code",
   "execution_count": 32,
   "metadata": {},
   "outputs": [],
   "source": [
    "# Open the file\n",
    "data = open('student_list.csv', encoding = 'utf-8')\n",
    "\n",
    "# csv.reader\n",
    "# You can seperate with \",\", \";\", \"\\t\" etc. Look at the file and find the delimiter\n",
    "csv_data = csv.reader(data, delimiter = ',')\n",
    "\n",
    "# Reformat it into python list\n",
    "student_data = list(csv_data)"
   ]
  },
  {
   "cell_type": "code",
   "execution_count": 33,
   "metadata": {},
   "outputs": [
    {
     "data": {
      "text/plain": [
       "[['Student Name',\n",
       "  'Course',\n",
       "  'Teacher',\n",
       "  'Gender',\n",
       "  'ECTS',\n",
       "  'Classroom',\n",
       "  'Grade',\n",
       "  'Image Url'],\n",
       " ['Jens',\n",
       "  'Programmering',\n",
       "  'Thomas',\n",
       "  'male',\n",
       "  '20',\n",
       "  '105',\n",
       "  '7',\n",
       "  'https://cphbusiness.dk/images/Jens'],\n",
       " ['Jens',\n",
       "  'Python',\n",
       "  'Thomas',\n",
       "  'male',\n",
       "  '10',\n",
       "  '105',\n",
       "  '10',\n",
       "  'https://cphbusiness.dk/images/Jens'],\n",
       " ['Jens',\n",
       "  'Unity',\n",
       "  'Jesper',\n",
       "  'male',\n",
       "  '10',\n",
       "  '105',\n",
       "  '7',\n",
       "  'https://cphbusiness.dk/images/Jens'],\n",
       " ['Ole',\n",
       "  'Systemudvikling',\n",
       "  'Palle',\n",
       "  'male',\n",
       "  '10',\n",
       "  '105',\n",
       "  '12',\n",
       "  'https://cphbusiness.dk/images/Ole'],\n",
       " ['Ole',\n",
       "  'Python',\n",
       "  'Thomas',\n",
       "  'male',\n",
       "  '10',\n",
       "  '105',\n",
       "  '7',\n",
       "  'https://cphbusiness.dk/images/Ole'],\n",
       " ['Ole',\n",
       "  'Programmering',\n",
       "  'Thomas',\n",
       "  'male',\n",
       "  '20',\n",
       "  '105',\n",
       "  '-2',\n",
       "  'https://cphbusiness.dk/images/Ole'],\n",
       " ['Flemming',\n",
       "  'Unity',\n",
       "  'Jesper',\n",
       "  'male',\n",
       "  '10',\n",
       "  '105',\n",
       "  '0',\n",
       "  'https://cphbusiness.dk/images/Flemming'],\n",
       " ['Flemming',\n",
       "  'Programmering',\n",
       "  'Thomas',\n",
       "  'male',\n",
       "  '20',\n",
       "  '105',\n",
       "  '-2',\n",
       "  'https://cphbusiness.dk/images/Flemming'],\n",
       " ['Flemming',\n",
       "  'Systemudvikling',\n",
       "  'Palle',\n",
       "  'male',\n",
       "  '10',\n",
       "  '105',\n",
       "  '0',\n",
       "  'https://cphbusiness.dk/images/Flemming'],\n",
       " ['Line',\n",
       "  'Systemudvikling',\n",
       "  'Palle',\n",
       "  'Female',\n",
       "  '10',\n",
       "  '105',\n",
       "  '10',\n",
       "  'https://cphbusiness.dk/images/Line'],\n",
       " ['Line',\n",
       "  'Unity',\n",
       "  'Jesper',\n",
       "  'Female',\n",
       "  '10',\n",
       "  '105',\n",
       "  '4',\n",
       "  'https://cphbusiness.dk/images/Line'],\n",
       " ['Line',\n",
       "  'Security',\n",
       "  'Daniel',\n",
       "  'Female',\n",
       "  '10',\n",
       "  '105',\n",
       "  '2',\n",
       "  'https://cphbusiness.dk/images/Line'],\n",
       " ['Line',\n",
       "  'Programmering',\n",
       "  'Thomas',\n",
       "  'Female',\n",
       "  '20',\n",
       "  '105',\n",
       "  '4',\n",
       "  'https://cphbusiness.dk/images/Line']]"
      ]
     },
     "execution_count": 33,
     "metadata": {},
     "output_type": "execute_result"
    }
   ],
   "source": [
    "student_data"
   ]
  },
  {
   "cell_type": "code",
   "execution_count": 34,
   "metadata": {},
   "outputs": [],
   "source": [
    "# loop through the list and print each student with name, img_url and avg_grade.\n",
    "\n",
    "def make_student_looped_list(student_list):\n",
    "    check_list = []\n",
    "    student_dict_objects = []\n",
    "    student_list_objects = []\n",
    "    \n",
    "    for student in student_list[1:]:\n",
    "        #print(student)\n",
    "        student_name = student[0]\n",
    "        \n",
    "        if student_name not in check_list:\n",
    "            ects = 0\n",
    "            grade = 0\n",
    "            number_of_courses = 0\n",
    "            \n",
    "            for student in student_list[1:]:\n",
    "                \n",
    "                \n",
    "                if student[0] == student_name:\n",
    "                    ects = ects + int(student[4])\n",
    "                    grade = grade + int(student[6])\n",
    "                    number_of_courses = number_of_courses + 1\n",
    "            \n",
    "            \n",
    "            avg_grade = grade / number_of_courses\n",
    "            print(\"\\n\")\n",
    "            print(\"Student name: \" + student_name)\n",
    "            print(\"Ects: \" + str(ects))\n",
    "            print(\"Grade Total: \" + str(grade))\n",
    "            print(\"Number of courses: \" + str(number_of_courses))\n",
    "            print(\"Avr Grade: \" + str(avg_grade))\n",
    "            student_to_object = {\"Name\": student_name, \"ECTSTotal\": ects, \"GradeTotal\": grade, \"CourseTotal\": number_of_courses, \"AvgGrade\": avg_grade}\n",
    "            student_dict_objects.append(student_to_object)\n",
    "            print(student_to_object)\n",
    "            student_to_list = [student_name, ects, grade, number_of_courses, avg_grade]\n",
    "            student_list_objects.append(student_to_list)\n",
    "            print(student_to_list)\n",
    "            check_list.append(student_name)\n",
    "    \n",
    "    return (student_dict_objects, student_list_objects)\n",
    "        \n",
    "        "
   ]
  },
  {
   "cell_type": "code",
   "execution_count": 35,
   "metadata": {},
   "outputs": [
    {
     "name": "stdout",
     "output_type": "stream",
     "text": [
      "\n",
      "\n",
      "Student name: Jens\n",
      "Ects: 40\n",
      "Grade Total: 24\n",
      "Number of courses: 3\n",
      "Avr Grade: 8.0\n",
      "{'Name': 'Jens', 'ECTSTotal': 40, 'GradeTotal': 24, 'CourseTotal': 3, 'AvgGrade': 8.0}\n",
      "['Jens', 40, 24, 3, 8.0]\n",
      "\n",
      "\n",
      "Student name: Ole\n",
      "Ects: 40\n",
      "Grade Total: 17\n",
      "Number of courses: 3\n",
      "Avr Grade: 5.666666666666667\n",
      "{'Name': 'Ole', 'ECTSTotal': 40, 'GradeTotal': 17, 'CourseTotal': 3, 'AvgGrade': 5.666666666666667}\n",
      "['Ole', 40, 17, 3, 5.666666666666667]\n",
      "\n",
      "\n",
      "Student name: Flemming\n",
      "Ects: 40\n",
      "Grade Total: -2\n",
      "Number of courses: 3\n",
      "Avr Grade: -0.6666666666666666\n",
      "{'Name': 'Flemming', 'ECTSTotal': 40, 'GradeTotal': -2, 'CourseTotal': 3, 'AvgGrade': -0.6666666666666666}\n",
      "['Flemming', 40, -2, 3, -0.6666666666666666]\n",
      "\n",
      "\n",
      "Student name: Line\n",
      "Ects: 50\n",
      "Grade Total: 20\n",
      "Number of courses: 4\n",
      "Avr Grade: 5.0\n",
      "{'Name': 'Line', 'ECTSTotal': 50, 'GradeTotal': 20, 'CourseTotal': 4, 'AvgGrade': 5.0}\n",
      "['Line', 50, 20, 4, 5.0]\n"
     ]
    }
   ],
   "source": [
    "student_data_dict, student_data_list = make_student_looped_list(student_data)"
   ]
  },
  {
   "cell_type": "code",
   "execution_count": 36,
   "metadata": {},
   "outputs": [
    {
     "data": {
      "text/plain": [
       "[{'Name': 'Jens',\n",
       "  'ECTSTotal': 40,\n",
       "  'GradeTotal': 24,\n",
       "  'CourseTotal': 3,\n",
       "  'AvgGrade': 8.0},\n",
       " {'Name': 'Ole',\n",
       "  'ECTSTotal': 40,\n",
       "  'GradeTotal': 17,\n",
       "  'CourseTotal': 3,\n",
       "  'AvgGrade': 5.666666666666667},\n",
       " {'Name': 'Flemming',\n",
       "  'ECTSTotal': 40,\n",
       "  'GradeTotal': -2,\n",
       "  'CourseTotal': 3,\n",
       "  'AvgGrade': -0.6666666666666666},\n",
       " {'Name': 'Line',\n",
       "  'ECTSTotal': 50,\n",
       "  'GradeTotal': 20,\n",
       "  'CourseTotal': 4,\n",
       "  'AvgGrade': 5.0}]"
      ]
     },
     "execution_count": 36,
     "metadata": {},
     "output_type": "execute_result"
    }
   ],
   "source": [
    "student_data_dict"
   ]
  },
  {
   "cell_type": "code",
   "execution_count": 37,
   "metadata": {},
   "outputs": [
    {
     "data": {
      "text/plain": [
       "[['Jens', 40, 24, 3, 8.0],\n",
       " ['Ole', 40, 17, 3, 5.666666666666667],\n",
       " ['Flemming', 40, -2, 3, -0.6666666666666666],\n",
       " ['Line', 50, 20, 4, 5.0]]"
      ]
     },
     "execution_count": 37,
     "metadata": {},
     "output_type": "execute_result"
    }
   ],
   "source": [
    "student_data_list"
   ]
  },
  {
   "cell_type": "code",
   "execution_count": 41,
   "metadata": {},
   "outputs": [],
   "source": [
    "student_data_dict_sorted = sorted(student_data_dict, key=lambda k: k['AvgGrade'])"
   ]
  },
  {
   "cell_type": "code",
   "execution_count": 43,
   "metadata": {},
   "outputs": [
    {
     "data": {
      "text/plain": [
       "[{'Name': 'Flemming',\n",
       "  'ECTSTotal': 40,\n",
       "  'GradeTotal': -2,\n",
       "  'CourseTotal': 3,\n",
       "  'AvgGrade': -0.6666666666666666},\n",
       " {'Name': 'Line',\n",
       "  'ECTSTotal': 50,\n",
       "  'GradeTotal': 20,\n",
       "  'CourseTotal': 4,\n",
       "  'AvgGrade': 5.0},\n",
       " {'Name': 'Ole',\n",
       "  'ECTSTotal': 40,\n",
       "  'GradeTotal': 17,\n",
       "  'CourseTotal': 3,\n",
       "  'AvgGrade': 5.666666666666667},\n",
       " {'Name': 'Jens',\n",
       "  'ECTSTotal': 40,\n",
       "  'GradeTotal': 24,\n",
       "  'CourseTotal': 3,\n",
       "  'AvgGrade': 8.0}]"
      ]
     },
     "execution_count": 43,
     "metadata": {},
     "output_type": "execute_result"
    }
   ],
   "source": [
    "student_data_dict_sorted"
   ]
  },
  {
   "cell_type": "code",
   "execution_count": 46,
   "metadata": {},
   "outputs": [],
   "source": [
    "from operator import itemgetter"
   ]
  },
  {
   "cell_type": "code",
   "execution_count": 48,
   "metadata": {},
   "outputs": [],
   "source": [
    "student_data_list_sorted = sorted(student_data_list, key=itemgetter(4), reverse=True)"
   ]
  },
  {
   "cell_type": "code",
   "execution_count": 49,
   "metadata": {},
   "outputs": [
    {
     "data": {
      "text/plain": [
       "[['Jens', 40, 24, 3, 8.0],\n",
       " ['Ole', 40, 17, 3, 5.666666666666667],\n",
       " ['Line', 50, 20, 4, 5.0],\n",
       " ['Flemming', 40, -2, 3, -0.6666666666666666]]"
      ]
     },
     "execution_count": 49,
     "metadata": {},
     "output_type": "execute_result"
    }
   ],
   "source": [
    "student_data_list_sorted"
   ]
  },
  {
   "cell_type": "code",
   "execution_count": null,
   "metadata": {},
   "outputs": [],
   "source": []
  }
 ],
 "metadata": {
  "kernelspec": {
   "display_name": "Python 3",
   "language": "python",
   "name": "python3"
  },
  "language_info": {
   "codemirror_mode": {
    "name": "ipython",
    "version": 3
   },
   "file_extension": ".py",
   "mimetype": "text/x-python",
   "name": "python",
   "nbconvert_exporter": "python",
   "pygments_lexer": "ipython3",
   "version": "3.7.6"
  }
 },
 "nbformat": 4,
 "nbformat_minor": 4
}
