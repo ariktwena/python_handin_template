{
 "cells": [
  {
   "cell_type": "markdown",
   "metadata": {},
   "source": [
    "# Week 1 handin"
   ]
  },
  {
   "cell_type": "markdown",
   "metadata": {},
   "source": [
    "## 01 Assignment\n",
    "\n",
    "<br>\n",
    "1. Create 5 list comprehensions to solve the following 5 problems:\n",
    "<ol>\n",
    "    <li>Iterate a list of names to return a list of the names starting with H</li>\n",
    "    <li>In one line create a list of the numbers 1-100 to the power of 3</li>\n",
    "    <li>Iterate a list of names to create a list of tuples where the tuples first value is the length of the name and the second is the name</li>\n",
    "    <li>Iterate over each character in a string and get only those that are nummeric</li>\n",
    "    <li>Using only a list comprehension wrapped in set() get all possible combination from throwing 2 dice (hint use 2 for loops in a single list comprehension)</li>\n",
    "</ol>\n",
    "  \n",
    "<br>\n",
    "2. Create 2 dictionary comprehensions to solve the following:\n",
    "<ol>\n",
    "    <li>Iterate a list of names and create a dictionary where key is the name and value is the length of the name</li>\n",
    "    <li>Iterate a list of numbers and create a dictionary with {key:value} being {number:squareroot_of_number}</li>\n",
    "</ol>\n",
    "    \n",
    "<br>\n",
    "3. Extra assignment (This one goes beyond what is covered in the course notebooks. So only do it if you want an extra challenge).\n",
    "<ol>\n",
    "    <li>Progammatically using loops create a small program to produce a dictionary with all the 2 dice throw combinations as keys (eg: 2,3,4...etc) and their likelyhood in percent as values</li>\n",
    "</ol>\n",
    "\n"
   ]
  },
  {
   "cell_type": "markdown",
   "metadata": {},
   "source": [
    "## 02 Status\n",
    "All done."
   ]
  },
  {
   "cell_type": "markdown",
   "metadata": {},
   "source": [
    "## 03 Solution part 1"
   ]
  },
  {
   "cell_type": "code",
   "execution_count": 1,
   "metadata": {},
   "outputs": [
    {
     "name": "stdout",
     "output_type": "stream",
     "text": [
      "['Hans', 'Jesper', 'Brian', 'Hanne', 'Morten']\n",
      "['Hans', 'Hanne']\n"
     ]
    }
   ],
   "source": [
    "name_list = [\"Hans\", \"Jesper\", \"Brian\", \"Hanne\", \"Morten\"]\n",
    "print(name_list)\n",
    "\n",
    "\n",
    "result_list1 = [name for name in name_list if name[0:1].lower() == \"h\"]\n",
    "print(result_list1)"
   ]
  },
  {
   "cell_type": "code",
   "execution_count": 2,
   "metadata": {},
   "outputs": [
    {
     "name": "stdout",
     "output_type": "stream",
     "text": [
      "[1, 8, 27, 64, 125, 216, 343, 512, 729, 1000, 1331, 1728, 2197, 2744, 3375, 4096, 4913, 5832, 6859, 8000, 9261, 10648, 12167, 13824, 15625, 17576, 19683, 21952, 24389, 27000, 29791, 32768, 35937, 39304, 42875, 46656, 50653, 54872, 59319, 64000, 68921, 74088, 79507, 85184, 91125, 97336, 103823, 110592, 117649, 125000, 132651, 140608, 148877, 157464, 166375, 175616, 185193, 195112, 205379, 216000, 226981, 238328, 250047, 262144, 274625, 287496, 300763, 314432, 328509, 343000, 357911, 373248, 389017, 405224, 421875, 438976, 456533, 474552, 493039, 512000, 531441, 551368, 571787, 592704, 614125, 636056, 658503, 681472, 704969, 729000, 753571, 778688, 804357, 830584, 857375, 884736, 912673, 941192, 970299]\n"
     ]
    }
   ],
   "source": [
    "result_list2 = [i**3 for i in range(1,100)]\n",
    "print(result_list2)"
   ]
  },
  {
   "cell_type": "code",
   "execution_count": 3,
   "metadata": {},
   "outputs": [
    {
     "name": "stdout",
     "output_type": "stream",
     "text": [
      "['Hans', 'Jesper', 'Brian', 'Hanne', 'Morten']\n",
      "[(4, 'Hans'), (6, 'Jesper'), (5, 'Brian'), (5, 'Hanne'), (6, 'Morten')]\n"
     ]
    }
   ],
   "source": [
    "name_list = [\"Hans\", \"Jesper\", \"Brian\", \"Hanne\", \"Morten\"]\n",
    "print(name_list)\n",
    "\n",
    "result_list3 = [(len(name), name) for name in name_list]\n",
    "print(result_list3)"
   ]
  },
  {
   "cell_type": "code",
   "execution_count": 4,
   "metadata": {},
   "outputs": [
    {
     "name": "stdout",
     "output_type": "stream",
     "text": [
      "['1', '8', '7', '0', '5', '1', '2', '5', '6', '7', '9', '9', '0', '6', '4', '6', '6', '0', '0', '8', '3', '6', '1', '3', '5', '7', '5', '1', '9', '4', '8', '3', '8', '8', '9', '4', '3', '0', '8', '2']\n"
     ]
    }
   ],
   "source": [
    "my_string = \"d1e8a70b5ccab1dc2f56bbf7e99f064a660c08e361a35751b9c483c88943d082\"\n",
    "\n",
    "result_list4 = [letter for letter in my_string if letter.isnumeric()]\n",
    "print(result_list4)"
   ]
  },
  {
   "cell_type": "code",
   "execution_count": 5,
   "metadata": {},
   "outputs": [
    {
     "name": "stdout",
     "output_type": "stream",
     "text": [
      "{(1, 3), (6, 6), (5, 6), (2, 1), (6, 2), (1, 6), (5, 1), (2, 5), (1, 2), (3, 3), (5, 5), (4, 4), (6, 3), (1, 5), (3, 6), (2, 2), (4, 1), (1, 1), (6, 4), (3, 2), (2, 6), (5, 4), (4, 5), (5, 2), (1, 4), (2, 3), (4, 2), (6, 5), (3, 5), (5, 3), (4, 6), (6, 1), (3, 1), (4, 3), (3, 4), (2, 4)}\n"
     ]
    },
    {
     "data": {
      "text/plain": [
       "{(1, 1),\n",
       " (1, 2),\n",
       " (1, 3),\n",
       " (1, 4),\n",
       " (1, 5),\n",
       " (1, 6),\n",
       " (2, 1),\n",
       " (2, 2),\n",
       " (2, 3),\n",
       " (2, 4),\n",
       " (2, 5),\n",
       " (2, 6),\n",
       " (3, 1),\n",
       " (3, 2),\n",
       " (3, 3),\n",
       " (3, 4),\n",
       " (3, 5),\n",
       " (3, 6),\n",
       " (4, 1),\n",
       " (4, 2),\n",
       " (4, 3),\n",
       " (4, 4),\n",
       " (4, 5),\n",
       " (4, 6),\n",
       " (5, 1),\n",
       " (5, 2),\n",
       " (5, 3),\n",
       " (5, 4),\n",
       " (5, 5),\n",
       " (5, 6),\n",
       " (6, 1),\n",
       " (6, 2),\n",
       " (6, 3),\n",
       " (6, 4),\n",
       " (6, 5),\n",
       " (6, 6)}"
      ]
     },
     "execution_count": 5,
     "metadata": {},
     "output_type": "execute_result"
    }
   ],
   "source": [
    "result_list5 = set([(dice1, dice2) for dice1 in range(1,7) for dice2 in range(1,7)])\n",
    "print(result_list5)\n",
    "result_list5"
   ]
  },
  {
   "cell_type": "markdown",
   "metadata": {},
   "source": [
    "## 04 Solution part 2"
   ]
  },
  {
   "cell_type": "code",
   "execution_count": 6,
   "metadata": {},
   "outputs": [
    {
     "name": "stdout",
     "output_type": "stream",
     "text": [
      "['Hans', 'Jesper', 'Brian', 'Hanne', 'Morten']\n",
      "[{'Hans': 4}, {'Jesper': 6}, {'Brian': 5}, {'Hanne': 5}, {'Morten': 6}]\n"
     ]
    },
    {
     "data": {
      "text/plain": [
       "4"
      ]
     },
     "execution_count": 6,
     "metadata": {},
     "output_type": "execute_result"
    }
   ],
   "source": [
    "name_list = [\"Hans\", \"Jesper\", \"Brian\", \"Hanne\", \"Morten\"]\n",
    "print(name_list)\n",
    "\n",
    "result_list6 = [{name: len(name)} for name in name_list]\n",
    "print(result_list6)\n",
    "\n",
    "result_list6[0]['Hans']"
   ]
  },
  {
   "cell_type": "code",
   "execution_count": 7,
   "metadata": {},
   "outputs": [
    {
     "name": "stdout",
     "output_type": "stream",
     "text": [
      "['Hans', 'Jesper', 'Brian', 'Hanne', 'Morten']\n",
      "[{1: 1}, {4: 16}, {5: 25}, {7: 49}, {12: 144}, {16: 256}, {325: 105625}, {28: 784}, {44: 1936}, {56: 3136}, {77: 5929}, {89: 7921}]\n"
     ]
    },
    {
     "data": {
      "text/plain": [
       "25"
      ]
     },
     "execution_count": 7,
     "metadata": {},
     "output_type": "execute_result"
    }
   ],
   "source": [
    "number_list = [1,4,5,7,12,16,325,28,44,56,77,89]\n",
    "print(name_list)\n",
    "\n",
    "result_list7 = [{number: number**2} for number in number_list]\n",
    "print(result_list7)\n",
    "\n",
    "result_list7[2][5]"
   ]
  },
  {
   "cell_type": "markdown",
   "metadata": {},
   "source": [
    "## 04 Solution part 3"
   ]
  },
  {
   "cell_type": "code",
   "execution_count": 8,
   "metadata": {},
   "outputs": [
    {
     "name": "stdout",
     "output_type": "stream",
     "text": [
      "36\n",
      "[{2: [(1, 1)]}, {3: [(1, 2), (2, 1)]}, {4: [(1, 3), (2, 2), (3, 1)]}, {5: [(1, 4), (2, 3), (3, 2), (4, 1)]}, {6: [(1, 5), (2, 4), (3, 3), (4, 2), (5, 1)]}, {7: [(1, 6), (2, 5), (3, 4), (4, 3), (5, 2), (6, 1)]}, {8: [(2, 6), (3, 5), (4, 4), (5, 3), (6, 2)]}, {9: [(3, 6), (4, 5), (5, 4), (6, 3)]}, {10: [(4, 6), (5, 5), (6, 4)]}, {11: [(5, 6), (6, 5)]}, {12: [(6, 6)]}]\n",
      "[{2: 2.7777777777777777}, {3: 5.555555555555555}, {4: 8.333333333333332}, {5: 11.11111111111111}, {6: 13.88888888888889}, {7: 16.666666666666664}, {8: 13.88888888888889}, {9: 11.11111111111111}, {10: 8.333333333333332}, {11: 5.555555555555555}, {12: 2.7777777777777777}]\n"
     ]
    }
   ],
   "source": [
    "combinations = [(dice1,dice2) for dice1 in range(1,7) for dice2 in range(1,7)]\n",
    "print(len(combinations))\n",
    "\n",
    "result_list8 = [{x: [j for j in combinations if j[0]+j[1] == x]} for x in range(2,13)]\n",
    "print(result_list8)\n",
    "\n",
    "\n",
    "result_list9 = [{x: (len([j for j in combinations if j[0]+j[1] == x]) / len(combinations) ) * 100} for x in range(2,13)]\n",
    "print(result_list9)"
   ]
  },
  {
   "cell_type": "code",
   "execution_count": 9,
   "metadata": {},
   "outputs": [
    {
     "name": "stdout",
     "output_type": "stream",
     "text": [
      "top-level in dice\n",
      "dice is being imported into another module\n"
     ]
    }
   ],
   "source": [
    "import modules.dice as dice"
   ]
  },
  {
   "cell_type": "code",
   "execution_count": 10,
   "metadata": {},
   "outputs": [
    {
     "name": "stdout",
     "output_type": "stream",
     "text": [
      "36\n",
      "[{2: [(1, 1)]}, {3: [(1, 2), (2, 1)]}, {4: [(1, 3), (2, 2), (3, 1)]}, {5: [(1, 4), (2, 3), (3, 2), (4, 1)]}, {6: [(1, 5), (2, 4), (3, 3), (4, 2), (5, 1)]}, {7: [(1, 6), (2, 5), (3, 4), (4, 3), (5, 2), (6, 1)]}, {8: [(2, 6), (3, 5), (4, 4), (5, 3), (6, 2)]}, {9: [(3, 6), (4, 5), (5, 4), (6, 3)]}, {10: [(4, 6), (5, 5), (6, 4)]}, {11: [(5, 6), (6, 5)]}, {12: [(6, 6)]}]\n",
      "[{2: '2.78%'}, {3: '5.56%'}, {4: '8.33%'}, {5: '11.11%'}, {6: '13.89%'}, {7: '16.67%'}, {8: '13.89%'}, {9: '11.11%'}, {10: '8.33%'}, {11: '5.56%'}, {12: '2.78%'}]\n"
     ]
    },
    {
     "data": {
      "text/plain": [
       "[{2: '2.78%'},\n",
       " {3: '5.56%'},\n",
       " {4: '8.33%'},\n",
       " {5: '11.11%'},\n",
       " {6: '13.89%'},\n",
       " {7: '16.67%'},\n",
       " {8: '13.89%'},\n",
       " {9: '11.11%'},\n",
       " {10: '8.33%'},\n",
       " {11: '5.56%'},\n",
       " {12: '2.78%'}]"
      ]
     },
     "execution_count": 10,
     "metadata": {},
     "output_type": "execute_result"
    }
   ],
   "source": [
    "dice.func()"
   ]
  },
  {
   "cell_type": "code",
   "execution_count": null,
   "metadata": {},
   "outputs": [],
   "source": []
  }
 ],
 "metadata": {
  "kernelspec": {
   "display_name": "Python 3",
   "language": "python",
   "name": "python3"
  },
  "language_info": {
   "codemirror_mode": {
    "name": "ipython",
    "version": 3
   },
   "file_extension": ".py",
   "mimetype": "text/x-python",
   "name": "python",
   "nbconvert_exporter": "python",
   "pygments_lexer": "ipython3",
   "version": "3.7.6"
  }
 },
 "nbformat": 4,
 "nbformat_minor": 4
}
