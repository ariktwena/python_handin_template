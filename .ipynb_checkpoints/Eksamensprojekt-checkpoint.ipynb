{
 "cells": [
  {
   "cell_type": "markdown",
   "metadata": {},
   "source": [
    "## Create Object"
   ]
  },
  {
   "cell_type": "code",
   "execution_count": 1,
   "metadata": {},
   "outputs": [],
   "source": [
    "import datetime"
   ]
  },
  {
   "cell_type": "code",
   "execution_count": 2,
   "metadata": {},
   "outputs": [],
   "source": [
    "date = str(datetime.date.today().day) + \"-\" + str(datetime.date.today().month) + \"-\" + str(datetime.date.today().year)"
   ]
  },
  {
   "cell_type": "code",
   "execution_count": 3,
   "metadata": {},
   "outputs": [
    {
     "data": {
      "text/plain": [
       "'10-11-2021'"
      ]
     },
     "execution_count": 3,
     "metadata": {},
     "output_type": "execute_result"
    }
   ],
   "source": [
    "date"
   ]
  },
  {
   "cell_type": "code",
   "execution_count": 4,
   "metadata": {},
   "outputs": [],
   "source": [
    "class Computer():\n",
    "\n",
    "    def __init__(self, brand, model, cpu, processor, ram, ssd, screen, price, url):\n",
    "        self.brand = brand\n",
    "        self.model = model\n",
    "        self.cpu = cpu\n",
    "        self.processor = processor\n",
    "        self.ram = ram\n",
    "        self.ssd = ssd\n",
    "        self.screen = screen\n",
    "        self.price = price\n",
    "        self.date = str(datetime.date.today().day) + \"-\" + str(datetime.date.today().month) + \"-\" + str(datetime.date.today().year)\n",
    "        self.day = datetime.date.today().day\n",
    "        self.month = datetime.date.today().month\n",
    "        self.year = datetime.date.today().year\n",
    "        self.url = url\n",
    "        \n",
    "    def __str__(self):\n",
    "        return \"Brand: {}, model: {}, cpu: {}, processor: {}, ram: {}, ssd: {}, screen: {}, price: {}, date: {}, url: {}\".format(self.brand, self.model, self.cpu, self.processor, self.ram, self.ssd, self.screen, self.price, self.date, self.url)\n",
    "    \n",
    "    def __repr__(self):\n",
    "        return self.__str__()"
   ]
  },
  {
   "cell_type": "code",
   "execution_count": 5,
   "metadata": {},
   "outputs": [],
   "source": [
    "computer = Computer(\"Apple\", \"Macbook Air\", \"Intel\", \"i5\", 8, 256, 15, 7999, \"http://somethinghere.com\")"
   ]
  },
  {
   "cell_type": "code",
   "execution_count": 6,
   "metadata": {},
   "outputs": [
    {
     "data": {
      "text/plain": [
       "Brand: Apple, model: Macbook Air, cpu: Intel, processor: i5, ram: 8, ssd: 256, screen: 15, price: 7999, date: 10-11-2021, url: http://somethinghere.com"
      ]
     },
     "execution_count": 6,
     "metadata": {},
     "output_type": "execute_result"
    }
   ],
   "source": [
    "computer"
   ]
  },
  {
   "cell_type": "code",
   "execution_count": 7,
   "metadata": {},
   "outputs": [
    {
     "data": {
      "text/plain": [
       "10"
      ]
     },
     "execution_count": 7,
     "metadata": {},
     "output_type": "execute_result"
    }
   ],
   "source": [
    "computer.day"
   ]
  },
  {
   "cell_type": "markdown",
   "metadata": {},
   "source": [
    "## Create CSV file"
   ]
  },
  {
   "cell_type": "code",
   "execution_count": 8,
   "metadata": {},
   "outputs": [],
   "source": [
    "import csv"
   ]
  },
  {
   "cell_type": "code",
   "execution_count": 9,
   "metadata": {},
   "outputs": [],
   "source": [
    "def create_csv_file(filename):\n",
    "    filename = filename + '.csv'\n",
    "    file_to_output = open(filename, 'w', newline = '')\n",
    "    csv_writer = csv.writer(file_to_output, delimiter = ',')\n",
    "    csv_writer.writerow(['Brand', 'Model', 'Cpu', 'Processor', 'Ram', 'SSD', 'Screen', 'Price', 'Date', 'Day', 'Month', 'Year', 'Url'])\n",
    "    file_to_output.close()"
   ]
  },
  {
   "cell_type": "code",
   "execution_count": 10,
   "metadata": {},
   "outputs": [],
   "source": [
    "create_csv_file('eksamen')"
   ]
  },
  {
   "cell_type": "markdown",
   "metadata": {},
   "source": [
    "## Append to CSV file"
   ]
  },
  {
   "cell_type": "code",
   "execution_count": 11,
   "metadata": {},
   "outputs": [],
   "source": [
    "def append_to_csv_file(filename, computer_to_add):\n",
    "    file_to_output = open(filename, 'a', newline = '')\n",
    "    csv_writer = csv.writer(file_to_output, delimiter = ',')\n",
    "    csv_writer.writerow([computer_to_add.brand, computer_to_add.model, computer_to_add.cpu, computer_to_add.processor, computer_to_add.ram, computer_to_add.ssd, computer_to_add.screen, computer_to_add.price, computer_to_add.date, computer_to_add.day, computer_to_add.month, computer_to_add.year, computer_to_add.url])\n",
    "    file_to_output.close()"
   ]
  },
  {
   "cell_type": "code",
   "execution_count": 12,
   "metadata": {},
   "outputs": [],
   "source": [
    "append_to_csv_file('eksamen.csv', computer)"
   ]
  },
  {
   "cell_type": "markdown",
   "metadata": {},
   "source": [
    "## Read CSV file"
   ]
  },
  {
   "cell_type": "code",
   "execution_count": 13,
   "metadata": {},
   "outputs": [],
   "source": [
    "import pandas as pd \n",
    "import numpy as np"
   ]
  },
  {
   "cell_type": "code",
   "execution_count": 14,
   "metadata": {},
   "outputs": [
    {
     "data": {
      "text/html": [
       "<div>\n",
       "<style scoped>\n",
       "    .dataframe tbody tr th:only-of-type {\n",
       "        vertical-align: middle;\n",
       "    }\n",
       "\n",
       "    .dataframe tbody tr th {\n",
       "        vertical-align: top;\n",
       "    }\n",
       "\n",
       "    .dataframe thead th {\n",
       "        text-align: right;\n",
       "    }\n",
       "</style>\n",
       "<table border=\"1\" class=\"dataframe\">\n",
       "  <thead>\n",
       "    <tr style=\"text-align: right;\">\n",
       "      <th></th>\n",
       "      <th>Brand</th>\n",
       "      <th>Model</th>\n",
       "      <th>Cpu</th>\n",
       "      <th>Processor</th>\n",
       "      <th>Ram</th>\n",
       "      <th>SSD</th>\n",
       "      <th>Screen</th>\n",
       "      <th>Price</th>\n",
       "      <th>Date</th>\n",
       "      <th>Day</th>\n",
       "      <th>Month</th>\n",
       "      <th>Year</th>\n",
       "      <th>Url</th>\n",
       "    </tr>\n",
       "  </thead>\n",
       "  <tbody>\n",
       "    <tr>\n",
       "      <th>0</th>\n",
       "      <td>Apple</td>\n",
       "      <td>Macbook Air</td>\n",
       "      <td>Intel</td>\n",
       "      <td>i5</td>\n",
       "      <td>8</td>\n",
       "      <td>256</td>\n",
       "      <td>15</td>\n",
       "      <td>7999</td>\n",
       "      <td>10-11-2021</td>\n",
       "      <td>10</td>\n",
       "      <td>11</td>\n",
       "      <td>2021</td>\n",
       "      <td>http://somethinghere.com</td>\n",
       "    </tr>\n",
       "  </tbody>\n",
       "</table>\n",
       "</div>"
      ],
      "text/plain": [
       "   Brand        Model    Cpu Processor  Ram  SSD  Screen  Price        Date  \\\n",
       "0  Apple  Macbook Air  Intel        i5    8  256      15   7999  10-11-2021   \n",
       "\n",
       "   Day  Month  Year                       Url  \n",
       "0   10     11  2021  http://somethinghere.com  "
      ]
     },
     "execution_count": 14,
     "metadata": {},
     "output_type": "execute_result"
    }
   ],
   "source": [
    "computer_data = pd.read_csv('eksamen.csv', decimal=',')\n",
    "computer_data.head()"
   ]
  },
  {
   "cell_type": "markdown",
   "metadata": {},
   "source": [
    "## Create Machine Learning Array"
   ]
  },
  {
   "cell_type": "code",
   "execution_count": 15,
   "metadata": {},
   "outputs": [],
   "source": [
    "def calculate_accepted_days(day, month, year):\n",
    "    \n",
    "    date_of_record = datetime.datetime(year, month, day)\n",
    "    todays_date = datetime.datetime(datetime.date.today().year, datetime.date.today().month, datetime.date.today().day)\n",
    "    result = todays_date - date_of_record\n",
    "    \n",
    "    return result.days"
   ]
  },
  {
   "cell_type": "code",
   "execution_count": 16,
   "metadata": {},
   "outputs": [],
   "source": [
    "def create_machine_learning(computer_to_use):\n",
    "    cpu_value = 0\n",
    "    processor_value = 0\n",
    "    screen_value = 0\n",
    "    time_value = 0\n",
    "    \n",
    "    if computer_to_use.cpu.lower() == 'intel':\n",
    "        cpu_value = 1\n",
    "    elif computer_to_use.cpu.lower() == 'apple' or computer_to_use.cpu.lower() == 'm1':\n",
    "        cpu_value = 2\n",
    "\n",
    "    if computer_to_use.processor.lower() == 'i3':\n",
    "        processor_value = 1\n",
    "    elif computer_to_use.processor.lower() == 'i5':\n",
    "        processor_value = 2\n",
    "    elif computer_to_use.processor.lower() == 'i7':\n",
    "        processor_value = 3\n",
    "    elif computer_to_use.processor.lower() == 'i9':\n",
    "        processor_value = 4\n",
    "    elif computer_to_use.processor.lower() == 'M1':\n",
    "        processor_value = 5\n",
    "    elif computer_to_use.processor.lower() == 'M1 Pro':\n",
    "        processor_value = 6\n",
    "    elif computer_to_use.processor.lower() == 'M1 Max':\n",
    "        processor_value = 7\n",
    "        \n",
    "    if computer_to_use.screen == 13:\n",
    "        screen_value = 1\n",
    "    elif computer_to_use.screen == 14:\n",
    "        screen_value = 2\n",
    "    elif computer_to_use.screen == 15:\n",
    "        screen_value = 3\n",
    "    elif computer_to_use.screen == 16:\n",
    "        screen_value = 4\n",
    "    \n",
    "    days = calculate_accepted_days(computer_to_use.day, computer_to_use.month, computer_to_use.year)\n",
    "    if  days <= 30 & days >= 0:\n",
    "        time_value = 1\n",
    "    \n",
    "    return [cpu_value, processor_value, computer_to_use.ram, computer_to_use.ssd, screen_value, time_value, computer_to_use.price]"
   ]
  },
  {
   "cell_type": "code",
   "execution_count": 17,
   "metadata": {},
   "outputs": [
    {
     "data": {
      "text/plain": [
       "[1, 2, 8, 256, 3, 1, 7999]"
      ]
     },
     "execution_count": 17,
     "metadata": {},
     "output_type": "execute_result"
    }
   ],
   "source": [
    "create_machine_learning(computer)"
   ]
  },
  {
   "cell_type": "markdown",
   "metadata": {},
   "source": [
    "## Search Input"
   ]
  },
  {
   "cell_type": "code",
   "execution_count": 23,
   "metadata": {},
   "outputs": [],
   "source": [
    "def search_input():\n",
    "    ram = ''\n",
    "    ssd = ''\n",
    "    screen = ''\n",
    "    price = ''\n",
    "    brand = input('Computer brand: ')\n",
    "    model = input('Model: ')\n",
    "    cpu = input('Cpu manufacture: ')\n",
    "    processor = input('Processor: ')\n",
    "    while type(ram) is not int:\n",
    "        try:\n",
    "            ram = int(input('Number of Ram: '))\n",
    "        except ValueError as e:\n",
    "            print('Please write a whole number...')\n",
    "    while type(ssd) is not int:\n",
    "        try:\n",
    "            ssd = int(input('Size of SSD: '))\n",
    "        except ValueError as e:\n",
    "            print('Please write a whole number...')\n",
    "    while type(screen) is not int:\n",
    "        try:\n",
    "            screen = int(input('Screen size: '))\n",
    "        except ValueError as e:\n",
    "            print('Please write a whole number...')\n",
    "    while type(price) is not float:\n",
    "        try:\n",
    "            price = float(input('Target price: '))\n",
    "        except ValueError as e:\n",
    "            print('Please write a number...')\n",
    "    \n",
    "    query = brand + ' ' + model + ' ' + cpu + ' ' + processor + ' ' + str(ram) + ' GB ' + str(ssd) + ' SSD ' + str(screen) + '\"'\n",
    "            \n",
    "    return (query, price)  "
   ]
  },
  {
   "cell_type": "code",
   "execution_count": 24,
   "metadata": {},
   "outputs": [
    {
     "name": "stdout",
     "output_type": "stream",
     "text": [
      "Computer brand: Apple \n",
      "Model: Air\n",
      "Cpu manufacture: Intel\n",
      "Processor: i5\n",
      "Number of Ram: 8\n",
      "Size of SSD: 500\n",
      "Screen size: 13\n",
      "Target price: 799.99\n"
     ]
    }
   ],
   "source": [
    "query, price = search_input()"
   ]
  },
  {
   "cell_type": "code",
   "execution_count": 25,
   "metadata": {},
   "outputs": [
    {
     "data": {
      "text/plain": [
       "'Apple  Air Intel i5 8 GB 500 SSD 13\"'"
      ]
     },
     "execution_count": 25,
     "metadata": {},
     "output_type": "execute_result"
    }
   ],
   "source": [
    "query"
   ]
  },
  {
   "cell_type": "code",
   "execution_count": 26,
   "metadata": {},
   "outputs": [
    {
     "data": {
      "text/plain": [
       "799.99"
      ]
     },
     "execution_count": 26,
     "metadata": {},
     "output_type": "execute_result"
    }
   ],
   "source": [
    "price"
   ]
  },
  {
   "cell_type": "code",
   "execution_count": null,
   "metadata": {},
   "outputs": [],
   "source": []
  }
 ],
 "metadata": {
  "kernelspec": {
   "display_name": "Python 3",
   "language": "python",
   "name": "python3"
  },
  "language_info": {
   "codemirror_mode": {
    "name": "ipython",
    "version": 3
   },
   "file_extension": ".py",
   "mimetype": "text/x-python",
   "name": "python",
   "nbconvert_exporter": "python",
   "pygments_lexer": "ipython3",
   "version": "3.7.6"
  }
 },
 "nbformat": 4,
 "nbformat_minor": 4
}
