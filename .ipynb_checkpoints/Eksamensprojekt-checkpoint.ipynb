{
 "cells": [
  {
   "cell_type": "markdown",
   "metadata": {},
   "source": [
    "## Create Object"
   ]
  },
  {
   "cell_type": "code",
   "execution_count": 1,
   "metadata": {},
   "outputs": [],
   "source": [
    "import datetime"
   ]
  },
  {
   "cell_type": "code",
   "execution_count": 2,
   "metadata": {},
   "outputs": [],
   "source": [
    "date = str(datetime.date.today().day) + \"-\" + str(datetime.date.today().month) + \"-\" + str(datetime.date.today().year)"
   ]
  },
  {
   "cell_type": "code",
   "execution_count": 3,
   "metadata": {},
   "outputs": [
    {
     "data": {
      "text/plain": [
       "'11-11-2021'"
      ]
     },
     "execution_count": 3,
     "metadata": {},
     "output_type": "execute_result"
    }
   ],
   "source": [
    "date"
   ]
  },
  {
   "cell_type": "code",
   "execution_count": 86,
   "metadata": {},
   "outputs": [],
   "source": [
    "class Computer():\n",
    "\n",
    "    def __init__(self, model = '', screen = 0, ram = 0, ssd = 0, price = 0, url = '', brand = '', cpu = '', processor = ''):\n",
    "        self.brand = brand\n",
    "        self.model = model\n",
    "        self.cpu = cpu\n",
    "        self.processor = processor\n",
    "        self.ram = ram\n",
    "        self.ssd = ssd\n",
    "        self.screen = screen\n",
    "        self.price = price\n",
    "        self.date = str(datetime.date.today().day) + \"-\" + str(datetime.date.today().month) + \"-\" + str(datetime.date.today().year)\n",
    "        self.url = url\n",
    "        \n",
    "    def __str__(self):\n",
    "        return \"Brand: {}, model: {}, cpu: {}, processor: {}, ram: {}, ssd: {}, screen: {}, price: {}, date: {}, url: {}\".format(self.brand, self.model, self.cpu, self.processor, self.ram, self.ssd, self.screen, self.price, self.date, self.url)\n",
    "    \n",
    "    def __repr__(self):\n",
    "        return self.__str__()"
   ]
  },
  {
   "cell_type": "code",
   "execution_count": 89,
   "metadata": {},
   "outputs": [],
   "source": [
    "computer_1 = Computer(\"Apple\", 13, 8, 512, 7999.00, \"http://somethinghere.com\", \"Apple\", \"Apple M1\", \"M1 Pro\")"
   ]
  },
  {
   "cell_type": "code",
   "execution_count": 90,
   "metadata": {},
   "outputs": [
    {
     "data": {
      "text/plain": [
       "Brand: Apple, model: Apple, cpu: Apple M1, processor: M1 Pro, ram: 8, ssd: 512, screen: 13, price: 7999.0, date: 11-11-2021, url: http://somethinghere.com"
      ]
     },
     "execution_count": 90,
     "metadata": {},
     "output_type": "execute_result"
    }
   ],
   "source": [
    "computer_1"
   ]
  },
  {
   "cell_type": "code",
   "execution_count": 91,
   "metadata": {},
   "outputs": [],
   "source": [
    "computer_2 = Computer(\"Apple\", 14, 16, 1, 10999.00, \"http://somethinghere.com\", \"Apple\", \"Apple M1\", \"M1 Max\")"
   ]
  },
  {
   "cell_type": "code",
   "execution_count": 92,
   "metadata": {},
   "outputs": [
    {
     "data": {
      "text/plain": [
       "Brand: Apple, model: Apple, cpu: Apple M1, processor: M1 Max, ram: 16, ssd: 1, screen: 14, price: 10999.0, date: 11-11-2021, url: http://somethinghere.com"
      ]
     },
     "execution_count": 92,
     "metadata": {},
     "output_type": "execute_result"
    }
   ],
   "source": [
    "computer_2"
   ]
  },
  {
   "cell_type": "markdown",
   "metadata": {},
   "source": [
    "## Create CSV file"
   ]
  },
  {
   "cell_type": "code",
   "execution_count": 98,
   "metadata": {},
   "outputs": [],
   "source": [
    "import csv"
   ]
  },
  {
   "cell_type": "code",
   "execution_count": 99,
   "metadata": {},
   "outputs": [],
   "source": [
    "def create_csv_file(filename):\n",
    "    filename = filename + '.csv'\n",
    "    file_to_output = open(filename, 'w', newline = '')\n",
    "    csv_writer = csv.writer(file_to_output, delimiter = ',')\n",
    "    csv_writer.writerow(['Brand', 'Model', 'Cpu', 'Processor', 'Ram', 'SSD', 'Screen', 'Price', 'Date', 'Url'])\n",
    "    file_to_output.close()"
   ]
  },
  {
   "cell_type": "code",
   "execution_count": 100,
   "metadata": {},
   "outputs": [],
   "source": [
    "create_csv_file('eksamen')"
   ]
  },
  {
   "cell_type": "markdown",
   "metadata": {},
   "source": [
    "## Append to CSV file"
   ]
  },
  {
   "cell_type": "code",
   "execution_count": 101,
   "metadata": {},
   "outputs": [],
   "source": [
    "def append_to_csv_file(filename, computer_to_add):\n",
    "    file_to_output = open(filename, 'a', newline = '')\n",
    "    csv_writer = csv.writer(file_to_output, delimiter = ',')\n",
    "    csv_writer.writerow([computer_to_add.brand, computer_to_add.model, computer_to_add.cpu, computer_to_add.processor, computer_to_add.ram, computer_to_add.ssd, computer_to_add.screen, computer_to_add.price, computer_to_add.date, computer_to_add.url])\n",
    "    file_to_output.close()"
   ]
  },
  {
   "cell_type": "code",
   "execution_count": 102,
   "metadata": {},
   "outputs": [],
   "source": [
    "append_to_csv_file('eksamen.csv', computer_1)"
   ]
  },
  {
   "cell_type": "code",
   "execution_count": 103,
   "metadata": {},
   "outputs": [],
   "source": [
    "append_to_csv_file('eksamen.csv', computer_2)"
   ]
  },
  {
   "cell_type": "markdown",
   "metadata": {},
   "source": [
    "## Read CSV file"
   ]
  },
  {
   "cell_type": "code",
   "execution_count": 104,
   "metadata": {},
   "outputs": [],
   "source": [
    "import pandas as pd \n",
    "import numpy as np"
   ]
  },
  {
   "cell_type": "code",
   "execution_count": 105,
   "metadata": {},
   "outputs": [
    {
     "data": {
      "text/html": [
       "<div>\n",
       "<style scoped>\n",
       "    .dataframe tbody tr th:only-of-type {\n",
       "        vertical-align: middle;\n",
       "    }\n",
       "\n",
       "    .dataframe tbody tr th {\n",
       "        vertical-align: top;\n",
       "    }\n",
       "\n",
       "    .dataframe thead th {\n",
       "        text-align: right;\n",
       "    }\n",
       "</style>\n",
       "<table border=\"1\" class=\"dataframe\">\n",
       "  <thead>\n",
       "    <tr style=\"text-align: right;\">\n",
       "      <th></th>\n",
       "      <th>Brand</th>\n",
       "      <th>Model</th>\n",
       "      <th>Cpu</th>\n",
       "      <th>Processor</th>\n",
       "      <th>Ram</th>\n",
       "      <th>SSD</th>\n",
       "      <th>Screen</th>\n",
       "      <th>Price</th>\n",
       "      <th>Date</th>\n",
       "      <th>Url</th>\n",
       "    </tr>\n",
       "  </thead>\n",
       "  <tbody>\n",
       "    <tr>\n",
       "      <th>0</th>\n",
       "      <td>Apple</td>\n",
       "      <td>Apple</td>\n",
       "      <td>Apple M1</td>\n",
       "      <td>M1 Pro</td>\n",
       "      <td>8</td>\n",
       "      <td>512</td>\n",
       "      <td>13</td>\n",
       "      <td>7999.0</td>\n",
       "      <td>11-11-2021</td>\n",
       "      <td>http://somethinghere.com</td>\n",
       "    </tr>\n",
       "    <tr>\n",
       "      <th>1</th>\n",
       "      <td>Apple</td>\n",
       "      <td>Apple</td>\n",
       "      <td>Apple M1</td>\n",
       "      <td>M1 Max</td>\n",
       "      <td>16</td>\n",
       "      <td>1</td>\n",
       "      <td>14</td>\n",
       "      <td>10999.0</td>\n",
       "      <td>11-11-2021</td>\n",
       "      <td>http://somethinghere.com</td>\n",
       "    </tr>\n",
       "  </tbody>\n",
       "</table>\n",
       "</div>"
      ],
      "text/plain": [
       "   Brand  Model       Cpu Processor  Ram  SSD  Screen    Price        Date  \\\n",
       "0  Apple  Apple  Apple M1    M1 Pro    8  512      13   7999.0  11-11-2021   \n",
       "1  Apple  Apple  Apple M1    M1 Max   16    1      14  10999.0  11-11-2021   \n",
       "\n",
       "                        Url  \n",
       "0  http://somethinghere.com  \n",
       "1  http://somethinghere.com  "
      ]
     },
     "execution_count": 105,
     "metadata": {},
     "output_type": "execute_result"
    }
   ],
   "source": [
    "computer_data = pd.read_csv('eksamen.csv', decimal=',')\n",
    "computer_data.head()"
   ]
  },
  {
   "cell_type": "markdown",
   "metadata": {},
   "source": [
    "## Create Machine Learning Array"
   ]
  },
  {
   "cell_type": "code",
   "execution_count": 16,
   "metadata": {},
   "outputs": [],
   "source": [
    "def calculate_accepted_days(day, month, year):\n",
    "    \n",
    "    date_of_record = datetime.datetime(year, month, day)\n",
    "    todays_date = datetime.datetime(datetime.date.today().year, datetime.date.today().month, datetime.date.today().day)\n",
    "    result = todays_date - date_of_record\n",
    "    \n",
    "    return result.days"
   ]
  },
  {
   "cell_type": "code",
   "execution_count": 29,
   "metadata": {},
   "outputs": [],
   "source": [
    "def create_machine_learning(computer_to_use):\n",
    "    cpu_value = 0\n",
    "    processor_value = 0\n",
    "    screen_value = 0\n",
    "    time_value = 0\n",
    "    \n",
    "    if computer_to_use.cpu.lower() == 'intel core':\n",
    "        cpu_value = 1\n",
    "    elif computer_to_use.cpu.lower() == 'apple' or (computer_to_use.cpu == 'm1' or computer_to_use.cpu == 'M1'):\n",
    "        cpu_value = 2\n",
    "\n",
    "    if computer_to_use.processor == 'i3':\n",
    "        processor_value = 1\n",
    "    elif computer_to_use.processor == 'i5':\n",
    "        processor_value = 2\n",
    "    elif computer_to_use.processor == 'i7':\n",
    "        processor_value = 3\n",
    "    elif computer_to_use.processor == 'i9':\n",
    "        processor_value = 4\n",
    "    elif computer_to_use.processor == 'M1' or computer_to_use.processor == 'm1':\n",
    "        processor_value = 5\n",
    "    elif computer_to_use.processor == 'M1 Pro' or computer_to_use.processor == 'm1 pro':\n",
    "        processor_value = 6\n",
    "    elif computer_to_use.processor == 'M1 Max' or computer_to_use.processor == 'm1 max':\n",
    "        processor_value = 7\n",
    "        \n",
    "    if computer_to_use.screen == 13:\n",
    "        screen_value = 1\n",
    "    elif computer_to_use.screen == 14:\n",
    "        screen_value = 2\n",
    "    elif computer_to_use.screen == 15:\n",
    "        screen_value = 3\n",
    "    elif computer_to_use.screen == 16:\n",
    "        screen_value = 4\n",
    "    \n",
    "    date_tokens = computer_to_use.date.split('-')\n",
    "    day = int(date_tokens[0])\n",
    "    month = int(date_tokens[1])\n",
    "    year = int(date_tokens[2])\n",
    "    days = calculate_accepted_days(day, month, year)\n",
    "    if  days <= 30 & days >= 0:\n",
    "        time_value = 1\n",
    "    \n",
    "    return [cpu_value, processor_value, computer_to_use.ram, computer_to_use.ssd, screen_value, time_value, computer_to_use.price]"
   ]
  },
  {
   "cell_type": "code",
   "execution_count": 30,
   "metadata": {},
   "outputs": [
    {
     "data": {
      "text/plain": [
       "[2, 5, 8, 500, 1, 1, 7999]"
      ]
     },
     "execution_count": 30,
     "metadata": {},
     "output_type": "execute_result"
    }
   ],
   "source": [
    "create_machine_learning(computer_1)"
   ]
  },
  {
   "cell_type": "code",
   "execution_count": 31,
   "metadata": {},
   "outputs": [
    {
     "data": {
      "text/plain": [
       "[1, 3, 16, 256, 3, 1, 9999]"
      ]
     },
     "execution_count": 31,
     "metadata": {},
     "output_type": "execute_result"
    }
   ],
   "source": [
    "create_machine_learning(computer_2)"
   ]
  },
  {
   "cell_type": "markdown",
   "metadata": {},
   "source": [
    "## Search Input"
   ]
  },
  {
   "cell_type": "code",
   "execution_count": 108,
   "metadata": {},
   "outputs": [],
   "source": [
    "def search_input():\n",
    "    #brand = ''\n",
    "    #cpu = ''\n",
    "    #processor = ''\n",
    "    ram = ''\n",
    "    ssd = ''\n",
    "    screen = ''\n",
    "    price = ''\n",
    "    ssd_size = ''\n",
    "    screen_size = ''\n",
    "    isMac = False\n",
    "    \n",
    "    # brand = input('Computer brand: ')\n",
    "    model = input('Model: ')\n",
    "    # cpu = input('Cpu manufacture: ')\n",
    "    # processor = input('Processor: ')\n",
    "    while type(ram) is not int:\n",
    "        try:\n",
    "            ram = int(input('Number of Ram: '))\n",
    "        except ValueError as e:\n",
    "            print('Please write a whole number...')\n",
    "    while type(ssd) is not int:\n",
    "        try:\n",
    "            ssd = int(input('Size of SSD: '))\n",
    "        except ValueError as e:\n",
    "            print('Please write a whole number...')\n",
    "    while type(screen) is not int:\n",
    "        try:\n",
    "            screen = int(input('Screen size: '))\n",
    "        except ValueError as e:\n",
    "            print('Please write a whole number...')\n",
    "    while type(price) is not float:\n",
    "        try:\n",
    "            price = float(input('Target price: '))\n",
    "        except ValueError as e:\n",
    "            print('Please write a number...')\n",
    "            \n",
    "    if ssd < 10: \n",
    "        ssd_size = ' TB' \n",
    "    else: \n",
    "        ssd_size = ' GB'\n",
    "        \n",
    "    #if screen == 13:\n",
    "    #    screen_size = '13.3\"'\n",
    "    #elif screen == 14:\n",
    "    #    screen_size = '14.2\"'\n",
    "    #elif screen == 15:\n",
    "    #    screen_size = '15.4\"'\n",
    "    #elif screen == 16:\n",
    "    #    screen_size = '16.2\"'\n",
    "    \n",
    "    # query = brand + ' ' + model + ' ' + cpu + ' ' + processor + ' ' + str(ram) + ' GB ' + str(ssd) + ssd_size + screen_size\n",
    "    query = model + ' ' + str(screen) + ' ' + str(ram) + ' GB ' + str(ssd) + ssd_size\n",
    "    \n",
    "    computer_to_find = Computer(model, screen, ram, ssd, price)\n",
    "    \n",
    "    if 'mac' in model.lower():\n",
    "        isMac = True\n",
    "        \n",
    "    return (query, computer_to_find, price, isMac)  "
   ]
  },
  {
   "cell_type": "code",
   "execution_count": 110,
   "metadata": {},
   "outputs": [
    {
     "name": "stdout",
     "output_type": "stream",
     "text": [
      "Model: Macbook pro\n",
      "Number of Ram: 32\n",
      "Size of SSD: 1\n",
      "Screen size: 16\n",
      "Target price: 27500\n"
     ]
    }
   ],
   "source": [
    "query, computer_to_find, price, isMac = search_input()"
   ]
  },
  {
   "cell_type": "code",
   "execution_count": 111,
   "metadata": {},
   "outputs": [
    {
     "data": {
      "text/plain": [
       "'Macbook pro 16 32 GB 1 TB'"
      ]
     },
     "execution_count": 111,
     "metadata": {},
     "output_type": "execute_result"
    }
   ],
   "source": [
    "query"
   ]
  },
  {
   "cell_type": "code",
   "execution_count": 112,
   "metadata": {},
   "outputs": [
    {
     "data": {
      "text/plain": [
       "Brand: , model: Macbook pro, cpu: , processor: , ram: 32, ssd: 1, screen: 16, price: 27500.0, date: 11-11-2021, url: "
      ]
     },
     "execution_count": 112,
     "metadata": {},
     "output_type": "execute_result"
    }
   ],
   "source": [
    "computer_to_find"
   ]
  },
  {
   "cell_type": "code",
   "execution_count": 113,
   "metadata": {},
   "outputs": [
    {
     "data": {
      "text/plain": [
       "27500.0"
      ]
     },
     "execution_count": 113,
     "metadata": {},
     "output_type": "execute_result"
    }
   ],
   "source": [
    "price"
   ]
  },
  {
   "cell_type": "code",
   "execution_count": 114,
   "metadata": {},
   "outputs": [
    {
     "data": {
      "text/plain": [
       "True"
      ]
     },
     "execution_count": 114,
     "metadata": {},
     "output_type": "execute_result"
    }
   ],
   "source": [
    "isMac"
   ]
  },
  {
   "cell_type": "markdown",
   "metadata": {},
   "source": [
    "## Scrape testers"
   ]
  },
  {
   "cell_type": "code",
   "execution_count": 78,
   "metadata": {},
   "outputs": [],
   "source": [
    "test_string = 'Apple Macbook Pro 14\" - M1 Pro 8-Core CPU & 14-Core GPU - 16GB RAM - 512 GB SSD - Liquid Retina XDR skærm - Space Grey'"
   ]
  },
  {
   "cell_type": "code",
   "execution_count": 79,
   "metadata": {},
   "outputs": [],
   "source": [
    "tokens = test_string.split(' - ')"
   ]
  },
  {
   "cell_type": "code",
   "execution_count": 80,
   "metadata": {},
   "outputs": [
    {
     "data": {
      "text/plain": [
       "['Apple Macbook Pro 14\"',\n",
       " 'M1 Pro 8-Core CPU & 14-Core GPU',\n",
       " '16GB RAM',\n",
       " '512 GB SSD',\n",
       " 'Liquid Retina XDR skærm',\n",
       " 'Space Grey']"
      ]
     },
     "execution_count": 80,
     "metadata": {},
     "output_type": "execute_result"
    }
   ],
   "source": [
    "tokens"
   ]
  },
  {
   "cell_type": "code",
   "execution_count": 81,
   "metadata": {},
   "outputs": [],
   "source": [
    "x = tokens[2].split('GB')"
   ]
  },
  {
   "cell_type": "code",
   "execution_count": 82,
   "metadata": {},
   "outputs": [
    {
     "data": {
      "text/plain": [
       "['16', ' RAM']"
      ]
     },
     "execution_count": 82,
     "metadata": {},
     "output_type": "execute_result"
    }
   ],
   "source": [
    "x"
   ]
  },
  {
   "cell_type": "code",
   "execution_count": 83,
   "metadata": {},
   "outputs": [],
   "source": [
    "test_string_2 = 'ASUS ZenBook 14 UM425QA-PURE14 Ryzen 9 5900HX / 16GB / 1TB / 14\"'"
   ]
  },
  {
   "cell_type": "code",
   "execution_count": 84,
   "metadata": {},
   "outputs": [],
   "source": [
    "tokens = test_string_2.split(' / ')"
   ]
  },
  {
   "cell_type": "code",
   "execution_count": 85,
   "metadata": {},
   "outputs": [
    {
     "data": {
      "text/plain": [
       "['ASUS ZenBook 14 UM425QA-PURE14 Ryzen 9 5900HX', '16GB', '1TB', '14\"']"
      ]
     },
     "execution_count": 85,
     "metadata": {},
     "output_type": "execute_result"
    }
   ],
   "source": [
    "tokens"
   ]
  },
  {
   "cell_type": "code",
   "execution_count": 106,
   "metadata": {},
   "outputs": [],
   "source": [
    "y = 'hjhskskfuuh'"
   ]
  },
  {
   "cell_type": "code",
   "execution_count": 107,
   "metadata": {},
   "outputs": [
    {
     "name": "stdout",
     "output_type": "stream",
     "text": [
      "true\n"
     ]
    }
   ],
   "source": [
    "if 'ksk' in y:\n",
    "    print('true')"
   ]
  },
  {
   "cell_type": "code",
   "execution_count": null,
   "metadata": {},
   "outputs": [],
   "source": []
  }
 ],
 "metadata": {
  "kernelspec": {
   "display_name": "Python 3",
   "language": "python",
   "name": "python3"
  },
  "language_info": {
   "codemirror_mode": {
    "name": "ipython",
    "version": 3
   },
   "file_extension": ".py",
   "mimetype": "text/x-python",
   "name": "python",
   "nbconvert_exporter": "python",
   "pygments_lexer": "ipython3",
   "version": "3.7.6"
  }
 },
 "nbformat": 4,
 "nbformat_minor": 4
}
