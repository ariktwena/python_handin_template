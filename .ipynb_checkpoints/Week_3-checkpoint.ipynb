{
 "cells": [
  {
   "cell_type": "markdown",
   "metadata": {},
   "source": [
    "# Exercise for the 3rd course week\n",
    "\n",
    "## Ex 1 Classes\n",
    "1. Create 3 classes: Student, DataSheet and Course\n",
    "2. A student has a data_sheet and a data_sheet has multiple courses in particular order\n",
    "3. Each course has name, classroom, teacher, ETCS and optional grade if course is taken.\n",
    "4. In Student create __init__() so that a Student can be initiated with name, gender, data_sheet and image_url\n",
    "5. In DataSheet create a method to get_grades_as_list()\n",
    "6. In student create a method: get_avg_grade()\n",
    "7. Create a function that can generate n number of students with random: name, gender, courses (from a fixed list of course names), grades, img_url\n",
    "   1. Let the function write the result to a csv file with format stud_name, course_name, teacher, ,gender, ects, classroom, grade, img_url\n",
    "7. Read student data into a list of Students from a csv file (Each student can appear on multiple lines): \n",
    "   1. loop through the list and print each student with name, img_url and avg_grade.\n",
    "   2. sort the list by avg_grade\n",
    "   3. create a bar chart with student_name on x and avg_grade on y-axis\n",
    "8. Make a method on Student class that can show progression of the study in % (add up ECTS from all passed courses divided by total of 150 total points (equivalent to 5 semesters))\n",
    "9. Show a bar chart of distribution of study progression on x-axis and number of students in each category on y-axis. (e.g. make 10 categories from 0-100%)\n",
    "\n",
    "Extra: Make the Datasheet class iterable so that next(data_sheet) will return the next course in the list\n",
    "\n",
    "## Ex 2 Exceptions (extra)\n",
    "1. Create a function that can take a list of students and return the 3 students closest to completing their study.\n",
    "2. If list is shorter than 3 raise your own custom exception (NotEnoughStudentsException)\n",
    "3. Create another function that can create a csv file with 3 students closest to completion\n",
    "   1. If an exception is raised write an appropriate message to the file\n",
    "\n",
    "## Ex 3 Plotting (extra)\n",
    "1. Create a function that can take a list of students and show a pie chart of how students are distributed in ECTS percentage categories (10%, 20%, ...)\n",
    "2. create a function that can take a list of students and show how many students have taken each course (bar chart)\n",
    "   1. create a method on student that can return a list of courses\n",
    "3. make the figure show males and females in different colors for each course (display 2 datasets in same figure)\n"
   ]
  },
  {
   "cell_type": "code",
   "execution_count": 1,
   "metadata": {},
   "outputs": [],
   "source": [
    "from enum import Enum"
   ]
  },
  {
   "cell_type": "code",
   "execution_count": 2,
   "metadata": {},
   "outputs": [],
   "source": [
    "class Gender(Enum):\n",
    "    Male = \"male\"\n",
    "    Female = \"Female\""
   ]
  },
  {
   "cell_type": "code",
   "execution_count": 3,
   "metadata": {},
   "outputs": [],
   "source": [
    "class Course():\n",
    "\n",
    "    def __init__(self, name, classroom, teacher, ects, grade = None):\n",
    "        self.name = name\n",
    "        self.classroom = classroom\n",
    "        self.teacher = teacher\n",
    "        self.ects = ects\n",
    "        self.grade = grade\n",
    "        \n",
    "    def __str__(self):\n",
    "        return \"Name: {}, Classroom: {}, Teacher: {}, ECTS: {}, Grade: {}\".format(self.name, self.classroom, self.teacher, self.ects, self.grade)"
   ]
  },
  {
   "cell_type": "code",
   "execution_count": 4,
   "metadata": {},
   "outputs": [],
   "source": [
    "class DataSheet():\n",
    "    \n",
    "    def __init__(self, courses = []):\n",
    "        self.courses = courses\n",
    "        \n",
    "    def get_grade_as_list(self, courses = []) -> Course: \n",
    "        grade_list = []\n",
    "        for course in self.courses:\n",
    "            print(course)\n",
    "            if course.grade is not None:\n",
    "                grade_list.append(course.grade)\n",
    "        return grade_list\n",
    "            "
   ]
  },
  {
   "cell_type": "code",
   "execution_count": 5,
   "metadata": {},
   "outputs": [],
   "source": [
    "class Student():\n",
    "\n",
    "    def __init__(self, name, gender, image_url, data_sheet = []):\n",
    "        self.name = name\n",
    "        self.gender = gender\n",
    "        self.image_url = image_url\n",
    "        self.data_sheet = data_sheet\n",
    "        \n",
    "    def get_data_sheet(self, data_sheet = []) -> DataSheet:\n",
    "        \"\"\"Get DataSheet\"\"\" \n",
    "        return self.data_sheet\n",
    "    \n",
    "    def get_avg_grade(self):\n",
    "        finished_courses = 0\n",
    "        grade_total = 0\n",
    "        \n",
    "        for course in self.data_sheet.courses:\n",
    "            if course.grade is not None:\n",
    "                finished_courses = finished_courses + 1\n",
    "                grade_total = grade_total + course.grade\n",
    "        \n",
    "        return f'Avg grade: {grade_total / finished_courses}'\n",
    "            \n",
    "        \n",
    "    def __str__(self):\n",
    "        return \"Name: {}, Gender: {}, image_url: {}, data_sheet: {}\".format(self.name, self.gender, self.image_url, self.data_sheet)\n"
   ]
  },
  {
   "cell_type": "code",
   "execution_count": 6,
   "metadata": {},
   "outputs": [],
   "source": [
    "course_1 = Course(\"Python\", \"105\", \"Thomas\", 10)"
   ]
  },
  {
   "cell_type": "code",
   "execution_count": 7,
   "metadata": {},
   "outputs": [
    {
     "data": {
      "text/plain": [
       "'Name: Python, Classroom: 105, Teacher: Thomas, ECTS: 10, Grade: None'"
      ]
     },
     "execution_count": 7,
     "metadata": {},
     "output_type": "execute_result"
    }
   ],
   "source": [
    "str(course_1)"
   ]
  },
  {
   "cell_type": "code",
   "execution_count": 8,
   "metadata": {},
   "outputs": [],
   "source": [
    "course_2 = Course(\"Unity\", \"105\", \"Jesper\", 10)"
   ]
  },
  {
   "cell_type": "code",
   "execution_count": 9,
   "metadata": {},
   "outputs": [
    {
     "data": {
      "text/plain": [
       "'Name: Unity, Classroom: 105, Teacher: Jesper, ECTS: 10, Grade: None'"
      ]
     },
     "execution_count": 9,
     "metadata": {},
     "output_type": "execute_result"
    }
   ],
   "source": [
    "str(course_2)"
   ]
  },
  {
   "cell_type": "code",
   "execution_count": 10,
   "metadata": {},
   "outputs": [],
   "source": [
    "course_3 = Course(\"Programmering 3. semester\", \"105\", \"Thomas\", 20, 12)"
   ]
  },
  {
   "cell_type": "code",
   "execution_count": 11,
   "metadata": {},
   "outputs": [
    {
     "data": {
      "text/plain": [
       "'Name: Programmering 3. semester, Classroom: 105, Teacher: Thomas, ECTS: 20, Grade: 12'"
      ]
     },
     "execution_count": 11,
     "metadata": {},
     "output_type": "execute_result"
    }
   ],
   "source": [
    "str(course_3)"
   ]
  },
  {
   "cell_type": "code",
   "execution_count": 12,
   "metadata": {},
   "outputs": [],
   "source": [
    "course_4 = Course(\"Systemudvikling\", \"105\", \"Palle\", 10, 10)"
   ]
  },
  {
   "cell_type": "code",
   "execution_count": 13,
   "metadata": {},
   "outputs": [
    {
     "data": {
      "text/plain": [
       "'Name: Systemudvikling, Classroom: 105, Teacher: Palle, ECTS: 10, Grade: 10'"
      ]
     },
     "execution_count": 13,
     "metadata": {},
     "output_type": "execute_result"
    }
   ],
   "source": [
    "str(course_4)"
   ]
  },
  {
   "cell_type": "code",
   "execution_count": 14,
   "metadata": {},
   "outputs": [],
   "source": [
    "student_1 = Student(\"Arik\", Gender.Male.value, \"https://google.com\", DataSheet([course_1, course_2, course_3, course_4]))"
   ]
  },
  {
   "cell_type": "code",
   "execution_count": 15,
   "metadata": {},
   "outputs": [
    {
     "name": "stdout",
     "output_type": "stream",
     "text": [
      "{'name': 'Arik', 'gender': 'male', 'image_url': 'https://google.com', 'data_sheet': <__main__.DataSheet object at 0x7f1e9cfa3910>}\n"
     ]
    }
   ],
   "source": [
    "print(student_1.__dict__)"
   ]
  },
  {
   "cell_type": "code",
   "execution_count": 16,
   "metadata": {},
   "outputs": [
    {
     "data": {
      "text/plain": [
       "'Name: Arik, Gender: male, image_url: https://google.com, data_sheet: <__main__.DataSheet object at 0x7f1e9cfa3910>'"
      ]
     },
     "execution_count": 16,
     "metadata": {},
     "output_type": "execute_result"
    }
   ],
   "source": [
    "str(student_1)"
   ]
  },
  {
   "cell_type": "code",
   "execution_count": 17,
   "metadata": {},
   "outputs": [
    {
     "name": "stdout",
     "output_type": "stream",
     "text": [
      "Name: Python, Classroom: 105, Teacher: Thomas, ECTS: 10, Grade: None\n",
      "Name: Unity, Classroom: 105, Teacher: Jesper, ECTS: 10, Grade: None\n",
      "Name: Programmering 3. semester, Classroom: 105, Teacher: Thomas, ECTS: 20, Grade: 12\n",
      "Name: Systemudvikling, Classroom: 105, Teacher: Palle, ECTS: 10, Grade: 10\n"
     ]
    },
    {
     "data": {
      "text/plain": [
       "[12, 10]"
      ]
     },
     "execution_count": 17,
     "metadata": {},
     "output_type": "execute_result"
    }
   ],
   "source": [
    "student_1.get_data_sheet().get_grade_as_list()"
   ]
  },
  {
   "cell_type": "code",
   "execution_count": 18,
   "metadata": {},
   "outputs": [
    {
     "data": {
      "text/plain": [
       "'Avg grade: 11.0'"
      ]
     },
     "execution_count": 18,
     "metadata": {},
     "output_type": "execute_result"
    }
   ],
   "source": [
    "student_1.get_avg_grade()"
   ]
  },
  {
   "cell_type": "code",
   "execution_count": 19,
   "metadata": {},
   "outputs": [],
   "source": [
    "import random"
   ]
  },
  {
   "cell_type": "code",
   "execution_count": 26,
   "metadata": {},
   "outputs": [],
   "source": [
    "male_names = ['Hans', 'Jesper', 'Ole', 'Søren']\n",
    "female_names = ['Lise', 'Sussi', 'Line']\n",
    "courses_list = [{'Name': 'Python', 'Classroom': '105', 'Teacher': 'Thomas', 'ECTS': 10}, {'Name': 'Unity', 'Classroom': '105', 'Teacher': 'Jesper', 'ECTS': 10}, {'Name': 'Security', 'Classroom': '105', 'Teacher': 'Daniel', 'ECTS': 10}]\n",
    "\n",
    "def make_random_students(number_of_students = 2, number_of_courses = 2):\n",
    "    data_sheet = DataSheet()\n",
    "    data_sheet.courses = []\n",
    "    print('Lenth data_sheet courses: ' + str(len(data_sheet.courses)))\n",
    "    print(\"Number of courses: \" + str(number_of_courses))\n",
    "    for course in range(0,number_of_courses):\n",
    "            \n",
    "            course_isTaken = False\n",
    "            \n",
    "            random_course_number = random.randint(0,len(courses_list) - 1)\n",
    "            print('Random course number: ' + str(random_course_number))\n",
    "            print(courses_list[random_course_number])\n",
    "            \n",
    "            course_to_add = courses_list[random_course_number]\n",
    "            \n",
    "            for current_course in data_sheet.courses:\n",
    "                print(current_course.name)\n",
    "                print(course_to_add['Name'])\n",
    "                if current_course.name == course_to_add['Name']:\n",
    "                    course_isTaken = True\n",
    "                    \n",
    "            if course_isTaken == False:\n",
    "                make_course_object = Course(course_to_add['Name'], course_to_add['Classroom'], course_to_add['Teacher'], course_to_add['ECTS'], None)\n",
    "                data_sheet.courses.append(make_course_object)\n",
    "            \n",
    "            print('Sheet lenth')\n",
    "            print(len(data_sheet.courses))\n",
    "            print(data_sheet.__dict__)\n",
    "    \n",
    "            studen_name = ''\n",
    "            student_gender = ''\n",
    "            student_image_url = 'https://cphbusiness.dk/images/'\n",
    "\n",
    "            male_or_female = random.choice([0, 1])\n",
    "            #print(male_or_female)\n",
    "\n",
    "\n",
    "            if male_or_female == 0:\n",
    "                student_name = random.choice(male_names)\n",
    "                student_gender = Gender.Male.value\n",
    "            else:\n",
    "                student_name = random.choice(female_names)\n",
    "                student_gender = Gender.Female.value\n",
    "\n",
    "            student_image_url = student_image_url + student_name\n",
    "\n",
    "            print(student_name)\n",
    "            print(student_gender)\n",
    "            print(student_image_url)\n",
    "        \n",
    "        \n",
    "            "
   ]
  },
  {
   "cell_type": "code",
   "execution_count": 21,
   "metadata": {},
   "outputs": [
    {
     "data": {
      "text/plain": [
       "[{'Name': 'Python', 'Classroom': '105', 'Teacher': 'Thomas', 'ECTS': 10},\n",
       " {'Name': 'Unity', 'Classroom': '105', 'Teacher': 'Jesper', 'ECTS': 10},\n",
       " {'Name': 'Security', 'Classroom': '105', 'Teacher': 'Daniel', 'ECTS': 10}]"
      ]
     },
     "execution_count": 21,
     "metadata": {},
     "output_type": "execute_result"
    }
   ],
   "source": [
    "courses_list"
   ]
  },
  {
   "cell_type": "code",
   "execution_count": 29,
   "metadata": {},
   "outputs": [
    {
     "name": "stdout",
     "output_type": "stream",
     "text": [
      "Lenth data_sheet courses: 0\n",
      "Number of courses: 1\n",
      "Random course number: 1\n",
      "{'Name': 'Unity', 'Classroom': '105', 'Teacher': 'Jesper', 'ECTS': 10}\n",
      "Sheet lenth\n",
      "1\n",
      "{'courses': [<__main__.Course object at 0x7f1e872144d0>]}\n",
      "Sussi\n",
      "Female\n",
      "https://cphbusiness.dk/images/Sussi\n"
     ]
    }
   ],
   "source": [
    "make_random_students(1,1)"
   ]
  },
  {
   "cell_type": "code",
   "execution_count": null,
   "metadata": {},
   "outputs": [],
   "source": []
  },
  {
   "cell_type": "code",
   "execution_count": null,
   "metadata": {},
   "outputs": [],
   "source": []
  }
 ],
 "metadata": {
  "kernelspec": {
   "display_name": "Python 3",
   "language": "python",
   "name": "python3"
  },
  "language_info": {
   "codemirror_mode": {
    "name": "ipython",
    "version": 3
   },
   "file_extension": ".py",
   "mimetype": "text/x-python",
   "name": "python",
   "nbconvert_exporter": "python",
   "pygments_lexer": "ipython3",
   "version": "3.7.6"
  }
 },
 "nbformat": 4,
 "nbformat_minor": 4
}
